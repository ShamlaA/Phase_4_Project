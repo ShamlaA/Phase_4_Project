{
 "cells": [
  {
   "cell_type": "markdown",
   "metadata": {},
   "source": [
    "# Phase 4 Project"
   ]
  },
  {
   "cell_type": "markdown",
   "metadata": {},
   "source": [
    "### Business Problem"
   ]
  },
  {
   "cell_type": "markdown",
   "metadata": {},
   "source": [
    "Company Zen has been marketing and selling Apple and Google products for an year now. One of their main platform is Twitter and they have hired me to build a model to help them classify the sentiments on the product offering so as to enable them make informed decision to strengthen or reassess their relationships with Apple and Google based on how customers are responding to the products."
   ]
  },
  {
   "cell_type": "markdown",
   "metadata": {},
   "source": [
    "### Business Understanding"
   ]
  },
  {
   "cell_type": "markdown",
   "metadata": {},
   "source": [
    "Understanding customer feel and think on products is very crucial as it impacts the marketing and product offering. Twitter offers real-time insights that would help the company react quicky to feedback and possible recover service. Identifying trends and sentiment patterns early, will enable Zen outpace competitors in refining their campaigns and address customer pain points.\n",
    "See below objectives that the model seeks to answer:\n",
    "* Develop a model to predict the positive and negative sentiments?\n",
    "* What products have the best and worst sentiments?\n",
    "* Should Company Zen continue this partneship with Apple and Google?"
   ]
  },
  {
   "cell_type": "markdown",
   "metadata": {},
   "source": [
    "### Data Understanding"
   ]
  },
  {
   "cell_type": "markdown",
   "metadata": {},
   "source": [
    "The dataset was downloaded from CrowdFlower and is stored in the data folder. Human raters rated the sentiments in over 9,000 Tweets as positive, negative, or neither. See the breakdown of the columns the data is in.\n",
    "\n",
    "**Tweet_text** -- actual text of the tweets\n",
    "\n",
    "**Emotion_in_tweet_is_directed_at** -- who or what the emotion expressed in the tweet is directed at\n",
    "\n",
    "**Is_there_an_emotion_directed_at_a_brand_or_product** -- whether the tweet contains an emotion directed at a specific brand or product\n"
   ]
  },
  {
   "cell_type": "markdown",
   "metadata": {},
   "source": [
    "#### Import Libraries"
   ]
  },
  {
   "cell_type": "code",
   "execution_count": 34,
   "metadata": {},
   "outputs": [
    {
     "name": "stderr",
     "output_type": "stream",
     "text": [
      "[nltk_data] Downloading package punkt to\n",
      "[nltk_data]     C:\\Users\\User\\AppData\\Roaming\\nltk_data...\n",
      "[nltk_data]   Package punkt is already up-to-date!\n"
     ]
    }
   ],
   "source": [
    "#Import relevant libraries\n",
    "import pandas as pd\n",
    "import numpy as np\n",
    "\n",
    "import matplotlib.pyplot as plt\n",
    "import seaborn as sns\n",
    "%matplotlib inline\n",
    "\n",
    "import nltk\n",
    "import re\n",
    "nltk.download('punkt')\n",
    "nltk.download('stopwords', quiet=True)\n",
    "from nltk.corpus import stopwords\n",
    "from nltk.tokenize import word_tokenize\n",
    "from nltk.tokenize import RegexpTokenizer\n",
    "from nltk import FreqDist\n",
    "from nltk.stem import PorterStemmer\n",
    "\n",
    "from sklearn.feature_extraction.text import TfidfVectorizer\n",
    "from sklearn.feature_extraction.text import CountVectorizer\n",
    "from sklearn.model_selection import train_test_split, cross_val_score\n",
    "from scipy.sparse.csr import csr_matrix\n",
    "from sklearn.naive_bayes import MultinomialNB\n",
    "from sklearn.tree import DecisionTreeClassifier\n",
    "from sklearn.metrics import confusion_matrix, ConfusionMatrixDisplay, accuracy_score, precision_score\n",
    "\n",
    "import warnings\n",
    "warnings.filterwarnings('ignore')"
   ]
  },
  {
   "cell_type": "markdown",
   "metadata": {},
   "source": [
    "#### Load & Inspect Data"
   ]
  },
  {
   "cell_type": "code",
   "execution_count": 35,
   "metadata": {},
   "outputs": [
    {
     "data": {
      "text/html": [
       "<div>\n",
       "<style scoped>\n",
       "    .dataframe tbody tr th:only-of-type {\n",
       "        vertical-align: middle;\n",
       "    }\n",
       "\n",
       "    .dataframe tbody tr th {\n",
       "        vertical-align: top;\n",
       "    }\n",
       "\n",
       "    .dataframe thead th {\n",
       "        text-align: right;\n",
       "    }\n",
       "</style>\n",
       "<table border=\"1\" class=\"dataframe\">\n",
       "  <thead>\n",
       "    <tr style=\"text-align: right;\">\n",
       "      <th></th>\n",
       "      <th>tweet_text</th>\n",
       "      <th>emotion_in_tweet_is_directed_at</th>\n",
       "      <th>is_there_an_emotion_directed_at_a_brand_or_product</th>\n",
       "    </tr>\n",
       "  </thead>\n",
       "  <tbody>\n",
       "    <tr>\n",
       "      <th>0</th>\n",
       "      <td>.@wesley83 I have a 3G iPhone. After 3 hrs twe...</td>\n",
       "      <td>iPhone</td>\n",
       "      <td>Negative emotion</td>\n",
       "    </tr>\n",
       "    <tr>\n",
       "      <th>1</th>\n",
       "      <td>@jessedee Know about @fludapp ? Awesome iPad/i...</td>\n",
       "      <td>iPad or iPhone App</td>\n",
       "      <td>Positive emotion</td>\n",
       "    </tr>\n",
       "    <tr>\n",
       "      <th>2</th>\n",
       "      <td>@swonderlin Can not wait for #iPad 2 also. The...</td>\n",
       "      <td>iPad</td>\n",
       "      <td>Positive emotion</td>\n",
       "    </tr>\n",
       "    <tr>\n",
       "      <th>3</th>\n",
       "      <td>@sxsw I hope this year's festival isn't as cra...</td>\n",
       "      <td>iPad or iPhone App</td>\n",
       "      <td>Negative emotion</td>\n",
       "    </tr>\n",
       "    <tr>\n",
       "      <th>4</th>\n",
       "      <td>@sxtxstate great stuff on Fri #SXSW: Marissa M...</td>\n",
       "      <td>Google</td>\n",
       "      <td>Positive emotion</td>\n",
       "    </tr>\n",
       "  </tbody>\n",
       "</table>\n",
       "</div>"
      ],
      "text/plain": [
       "                                          tweet_text  \\\n",
       "0  .@wesley83 I have a 3G iPhone. After 3 hrs twe...   \n",
       "1  @jessedee Know about @fludapp ? Awesome iPad/i...   \n",
       "2  @swonderlin Can not wait for #iPad 2 also. The...   \n",
       "3  @sxsw I hope this year's festival isn't as cra...   \n",
       "4  @sxtxstate great stuff on Fri #SXSW: Marissa M...   \n",
       "\n",
       "  emotion_in_tweet_is_directed_at  \\\n",
       "0                          iPhone   \n",
       "1              iPad or iPhone App   \n",
       "2                            iPad   \n",
       "3              iPad or iPhone App   \n",
       "4                          Google   \n",
       "\n",
       "  is_there_an_emotion_directed_at_a_brand_or_product  \n",
       "0                                   Negative emotion  \n",
       "1                                   Positive emotion  \n",
       "2                                   Positive emotion  \n",
       "3                                   Negative emotion  \n",
       "4                                   Positive emotion  "
      ]
     },
     "execution_count": 35,
     "metadata": {},
     "output_type": "execute_result"
    }
   ],
   "source": [
    "# Load the dataset\n",
    "df = pd.read_csv('data/judge-1377884607_tweet_product_company.csv', encoding='ISO-8859-1')\n",
    "# Preview the first five rows\n",
    "df.head()"
   ]
  },
  {
   "cell_type": "markdown",
   "metadata": {},
   "source": [
    "* The column names are so long. Let us proceed to **rename** for ease of access"
   ]
  },
  {
   "cell_type": "code",
   "execution_count": 36,
   "metadata": {},
   "outputs": [
    {
     "data": {
      "text/html": [
       "<div>\n",
       "<style scoped>\n",
       "    .dataframe tbody tr th:only-of-type {\n",
       "        vertical-align: middle;\n",
       "    }\n",
       "\n",
       "    .dataframe tbody tr th {\n",
       "        vertical-align: top;\n",
       "    }\n",
       "\n",
       "    .dataframe thead th {\n",
       "        text-align: right;\n",
       "    }\n",
       "</style>\n",
       "<table border=\"1\" class=\"dataframe\">\n",
       "  <thead>\n",
       "    <tr style=\"text-align: right;\">\n",
       "      <th></th>\n",
       "      <th>Text</th>\n",
       "      <th>Product</th>\n",
       "      <th>Sentiment</th>\n",
       "    </tr>\n",
       "  </thead>\n",
       "  <tbody>\n",
       "    <tr>\n",
       "      <th>0</th>\n",
       "      <td>.@wesley83 I have a 3G iPhone. After 3 hrs twe...</td>\n",
       "      <td>iPhone</td>\n",
       "      <td>Negative emotion</td>\n",
       "    </tr>\n",
       "    <tr>\n",
       "      <th>1</th>\n",
       "      <td>@jessedee Know about @fludapp ? Awesome iPad/i...</td>\n",
       "      <td>iPad or iPhone App</td>\n",
       "      <td>Positive emotion</td>\n",
       "    </tr>\n",
       "    <tr>\n",
       "      <th>2</th>\n",
       "      <td>@swonderlin Can not wait for #iPad 2 also. The...</td>\n",
       "      <td>iPad</td>\n",
       "      <td>Positive emotion</td>\n",
       "    </tr>\n",
       "    <tr>\n",
       "      <th>3</th>\n",
       "      <td>@sxsw I hope this year's festival isn't as cra...</td>\n",
       "      <td>iPad or iPhone App</td>\n",
       "      <td>Negative emotion</td>\n",
       "    </tr>\n",
       "    <tr>\n",
       "      <th>4</th>\n",
       "      <td>@sxtxstate great stuff on Fri #SXSW: Marissa M...</td>\n",
       "      <td>Google</td>\n",
       "      <td>Positive emotion</td>\n",
       "    </tr>\n",
       "  </tbody>\n",
       "</table>\n",
       "</div>"
      ],
      "text/plain": [
       "                                                Text             Product  \\\n",
       "0  .@wesley83 I have a 3G iPhone. After 3 hrs twe...              iPhone   \n",
       "1  @jessedee Know about @fludapp ? Awesome iPad/i...  iPad or iPhone App   \n",
       "2  @swonderlin Can not wait for #iPad 2 also. The...                iPad   \n",
       "3  @sxsw I hope this year's festival isn't as cra...  iPad or iPhone App   \n",
       "4  @sxtxstate great stuff on Fri #SXSW: Marissa M...              Google   \n",
       "\n",
       "          Sentiment  \n",
       "0  Negative emotion  \n",
       "1  Positive emotion  \n",
       "2  Positive emotion  \n",
       "3  Negative emotion  \n",
       "4  Positive emotion  "
      ]
     },
     "execution_count": 36,
     "metadata": {},
     "output_type": "execute_result"
    }
   ],
   "source": [
    "# Rename columns for ease of access\n",
    "df.rename(columns={\n",
    "    'tweet_text': 'Text',\n",
    "    'emotion_in_tweet_is_directed_at': 'Product',\n",
    "    'is_there_an_emotion_directed_at_a_brand_or_product': 'Sentiment'\n",
    "}, inplace=True)\n",
    "\n",
    "# Preview the renamed columns\n",
    "df.head()"
   ]
  },
  {
   "cell_type": "code",
   "execution_count": 37,
   "metadata": {},
   "outputs": [
    {
     "data": {
      "text/plain": [
       "(9093, 3)"
      ]
     },
     "execution_count": 37,
     "metadata": {},
     "output_type": "execute_result"
    }
   ],
   "source": [
    "#To view the shape of the dataset\n",
    "df.shape"
   ]
  },
  {
   "cell_type": "markdown",
   "metadata": {},
   "source": [
    "* We have 9093 tweet texts and 3 columns renamed as above."
   ]
  },
  {
   "cell_type": "code",
   "execution_count": 38,
   "metadata": {},
   "outputs": [
    {
     "name": "stdout",
     "output_type": "stream",
     "text": [
      "<class 'pandas.core.frame.DataFrame'>\n",
      "RangeIndex: 9093 entries, 0 to 9092\n",
      "Data columns (total 3 columns):\n",
      " #   Column     Non-Null Count  Dtype \n",
      "---  ------     --------------  ----- \n",
      " 0   Text       9092 non-null   object\n",
      " 1   Product    3291 non-null   object\n",
      " 2   Sentiment  9093 non-null   object\n",
      "dtypes: object(3)\n",
      "memory usage: 213.2+ KB\n"
     ]
    }
   ],
   "source": [
    "#To view the dataset information\n",
    "df.info()"
   ]
  },
  {
   "cell_type": "markdown",
   "metadata": {},
   "source": [
    "* We can view the datatype as object for the three columns and some missing values detected under the Non-null count which we shall further investigate."
   ]
  },
  {
   "cell_type": "markdown",
   "metadata": {},
   "source": [
    "#### Checking For Duplicates\n"
   ]
  },
  {
   "cell_type": "code",
   "execution_count": 39,
   "metadata": {},
   "outputs": [
    {
     "name": "stdout",
     "output_type": "stream",
     "text": [
      "Number of duplicate rows: 22\n"
     ]
    }
   ],
   "source": [
    "# Check the number of duplicate rows\n",
    "num_duplicates = df.duplicated().sum()\n",
    "print(f\"Number of duplicate rows: {num_duplicates}\")\n",
    "# Remove duplicate rows\n",
    "df_cleaned = df.drop_duplicates()"
   ]
  },
  {
   "cell_type": "markdown",
   "metadata": {},
   "source": [
    "#### Checking For Missing Values"
   ]
  },
  {
   "cell_type": "code",
   "execution_count": 40,
   "metadata": {},
   "outputs": [
    {
     "data": {
      "text/plain": [
       "Text            1\n",
       "Product      5789\n",
       "Sentiment       0\n",
       "dtype: int64"
      ]
     },
     "execution_count": 40,
     "metadata": {},
     "output_type": "execute_result"
    }
   ],
   "source": [
    "#To view the missing values from the cleaned dataset\n",
    "df_cleaned.isnull().sum()"
   ]
  },
  {
   "cell_type": "markdown",
   "metadata": {},
   "source": [
    "* We note that some of the tweets have the product keywords found in the second column. As a result, we will search for the keywords from the tweet column and where we find the products we shall fill the null values with it. This will help us deal with smaller numbers of null values in this column"
   ]
  },
  {
   "cell_type": "code",
   "execution_count": 54,
   "metadata": {},
   "outputs": [
    {
     "name": "stdout",
     "output_type": "stream",
     "text": [
      "                                                Text             Product  \\\n",
      "0  .@wesley83 I have a 3G iPhone. After 3 hrs twe...              iPhone   \n",
      "1  @jessedee Know about @fludapp ? Awesome iPad/i...  iPad or iPhone App   \n",
      "2  @swonderlin Can not wait for #iPad 2 also. The...                iPad   \n",
      "3  @sxsw I hope this year's festival isn't as cra...  iPad or iPhone App   \n",
      "4  @sxtxstate great stuff on Fri #SXSW: Marissa M...              Google   \n",
      "5  @teachntech00 New iPad Apps For #SpeechTherapy...                iPad   \n",
      "6                                                NaN                 NaN   \n",
      "7  #SXSW is just starting, #CTIA is around the co...             Android   \n",
      "8  Beautifully smart and simple idea RT @madebyma...  iPad or iPhone App   \n",
      "9  Counting down the days to #sxsw plus strong Ca...               Apple   \n",
      "\n",
      "          Sentiment  \n",
      "0  Negative emotion  \n",
      "1  Positive emotion  \n",
      "2  Positive emotion  \n",
      "3  Negative emotion  \n",
      "4  Positive emotion  \n",
      "5           Neutral  \n",
      "6           Neutral  \n",
      "7  Positive emotion  \n",
      "8  Positive emotion  \n",
      "9  Positive emotion  \n"
     ]
    }
   ],
   "source": [
    "# Example list of product names\n",
    "product_keywords = ['iPad', 'Apple', 'Google', 'iPhone', 'Android App', 'Android', 'iPad or iPhone App']\n",
    "\n",
    "# Function to extract product name from tweet text\n",
    "def extract_product(text):\n",
    "    if isinstance(text, str):  # Check if the text is a valid string\n",
    "        for product in product_keywords:\n",
    "            if product.lower() in text.lower():\n",
    "                return product\n",
    "    return np.nan  # Return NaN if no product is found or text is not a string\n",
    "\n",
    "df_cleaned['Product'] = df_cleaned.apply(\n",
    "    lambda row: extract_product(row['Text']) if pd.isnull(row['Product']) else row['Product'], axis=1\n",
    ")\n",
    "\n",
    "# Display the filled data\n",
    "print(df_cleaned.head(10))"
   ]
  },
  {
   "cell_type": "code",
   "execution_count": 55,
   "metadata": {},
   "outputs": [
    {
     "data": {
      "text/plain": [
       "Text           1\n",
       "Product      760\n",
       "Sentiment      0\n",
       "dtype: int64"
      ]
     },
     "execution_count": 55,
     "metadata": {},
     "output_type": "execute_result"
    }
   ],
   "source": [
    "df_cleaned.isnull().sum()"
   ]
  },
  {
   "cell_type": "markdown",
   "metadata": {},
   "source": [
    "* Since we have only one null row under the Text column we shall proceed to drop this null value then fill the product null values with a placeholder as the count of null values is actually too high and the product is important to us."
   ]
  },
  {
   "cell_type": "code",
   "execution_count": 56,
   "metadata": {},
   "outputs": [
    {
     "name": "stdout",
     "output_type": "stream",
     "text": [
      "Text         0\n",
      "Product      0\n",
      "Sentiment    0\n",
      "dtype: int64\n"
     ]
    }
   ],
   "source": [
    "# Drop missing values in 'Text' column\n",
    "df_cleaned = df_cleaned.dropna(subset=['Text'])\n",
    "\n",
    "# Fill missing values in 'Product' with a placeholder since we have 5789 null values.\n",
    "df_cleaned['Product'].fillna('Unknown Product', inplace=True)\n",
    "\n",
    "# Check if missing values are handled\n",
    "print(df_cleaned.isnull().sum())"
   ]
  },
  {
   "cell_type": "code",
   "execution_count": 57,
   "metadata": {},
   "outputs": [
    {
     "name": "stdout",
     "output_type": "stream",
     "text": [
      "Neutral             5375\n",
      "Positive emotion    2970\n",
      "Negative emotion     569\n",
      "I can't tell         156\n",
      "Name: Sentiment, dtype: int64\n",
      "--------------\n",
      "Percentage of Distribution\n",
      "Neutral             59.261301\n",
      "Positive emotion    32.745314\n",
      "Negative emotion     6.273429\n",
      "I can't tell         1.719956\n",
      "Name: Sentiment, dtype: float64\n"
     ]
    },
    {
     "data": {
      "image/png": "[encoded data removed]",
      "text/plain": [
       "<Figure size 720x432 with 1 Axes>"
      ]
     },
     "metadata": {
      "needs_background": "light"
     },
     "output_type": "display_data"
    }
   ],
   "source": [
    "#To view the count of each unique features of our target variable\n",
    "sentiment_counts = df_cleaned['Sentiment'].value_counts()\n",
    "sentiment_counts_perc = df_cleaned['Sentiment'].value_counts(normalize=True)\n",
    "print(sentiment_counts)\n",
    "print('--------------')\n",
    "print('Percentage of Distribution')\n",
    "print(sentiment_counts_perc*100)\n",
    "# Create a bar plot\n",
    "plt.figure(figsize=(10, 6))\n",
    "sns.barplot(x=sentiment_counts.index, y=sentiment_counts.values)\n",
    "\n",
    "# Add labels and title\n",
    "plt.xlabel('Sentiment', fontsize=10)\n",
    "plt.ylabel('Count', fontsize=10)\n",
    "plt.title('Distribution of Sentiment Classes', fontsize=15)\n",
    "\n",
    "# Show the plot\n",
    "plt.show()"
   ]
  },
  {
   "cell_type": "markdown",
   "metadata": {},
   "source": [
    "* Most of the data reflects neutral or no emotional response about 60%, followed by a significant share of positive sentiment 33%, and a much smaller share of negative emotions 6%. The \"I can't tell\" category is marginal about 1.7%."
   ]
  },
  {
   "cell_type": "code",
   "execution_count": 58,
   "metadata": {},
   "outputs": [
    {
     "data": {
      "text/plain": [
       "Neutral             5375\n",
       "Positive emotion    2970\n",
       "Negative emotion     569\n",
       "I can't tell         156\n",
       "Name: Sentiment, dtype: int64"
      ]
     },
     "execution_count": 58,
     "metadata": {},
     "output_type": "execute_result"
    }
   ],
   "source": [
    "#Decided to replace the no emotion toward branch or product with Neutral for use of interpretation\n",
    "df_cleaned['Sentiment'] = df_cleaned['Sentiment'].replace('No emotion toward brand or product', 'Neutral')\n",
    "df_cleaned['Sentiment'].value_counts() #Review the value counts of the classes of sentiments"
   ]
  },
  {
   "cell_type": "code",
   "execution_count": 59,
   "metadata": {},
   "outputs": [
    {
     "name": "stdout",
     "output_type": "stream",
     "text": [
      "iPad                               2512\n",
      "Google                             2131\n",
      "Apple                              1382\n",
      "iPhone                             1121\n",
      "Unknown Product                     759\n",
      "iPad or iPhone App                  469\n",
      "Other Google product or service     293\n",
      "Android                             265\n",
      "Android App                         103\n",
      "Other Apple product or service       35\n",
      "Name: Product, dtype: int64\n"
     ]
    },
    {
     "data": {
      "image/png": "[encoded data removed]",
      "text/plain": [
       "<Figure size 576x432 with 1 Axes>"
      ]
     },
     "metadata": {
      "needs_background": "light"
     },
     "output_type": "display_data"
    }
   ],
   "source": [
    "#To view the unique features of our product\n",
    "product_counts = df_cleaned['Product'].value_counts()\n",
    "print(product_counts)\n",
    "# Create a bar plot\n",
    "plt.figure(figsize=(8, 6))\n",
    "sns.barplot(x=product_counts.index, y=product_counts.values)\n",
    "\n",
    "# Add labels and title\n",
    "plt.xlabel('Product', fontsize=9)\n",
    "plt.ylabel('Count', fontsize=9)\n",
    "plt.title('Distribution of Product Category', fontsize=15)\n",
    "plt.xticks(rotation=90)\n",
    "\n",
    "# Show the plot\n",
    "plt.show()"
   ]
  },
  {
   "cell_type": "markdown",
   "metadata": {},
   "source": [
    "#### Data Preprocessing\n",
    "Here we will focus on the column Text containing the texts of the tweet and Perform Data Cleaning and Exploratory Data Analysis with nltk. Before that let us split our data."
   ]
  },
  {
   "cell_type": "code",
   "execution_count": 60,
   "metadata": {},
   "outputs": [
    {
     "name": "stdout",
     "output_type": "stream",
     "text": [
      "Training set size: (7709, 2)\n",
      "Validation set size: (1361, 2)\n",
      "Test set size: (907, 2)\n"
     ]
    }
   ],
   "source": [
    "# Split into train+val and test sets (90% train+val, 10% test)\n",
    "X_train_val, X_test, y_train_val, y_test = train_test_split(df_cleaned[['Text', 'Product']], df_cleaned['Sentiment'], test_size=0.1, random_state=42)\n",
    "\n",
    "# Then, split train+val into training and validation sets (85% train, 15% val)\n",
    "X_train_final, X_val, y_train_final, y_val = train_test_split(df_cleaned[['Text', 'Product']], df_cleaned['Sentiment'], test_size=0.15, random_state=42)\n",
    "\n",
    "# Check the sizes of the splits\n",
    "print(f\"Training set size: {X_train_final.shape}\")\n",
    "print(f\"Validation set size: {X_val.shape}\")\n",
    "print(f\"Test set size: {X_test.shape}\")\n"
   ]
  },
  {
   "cell_type": "code",
   "execution_count": 61,
   "metadata": {},
   "outputs": [
    {
     "name": "stdout",
     "output_type": "stream",
     "text": [
      "5488    rt sxsw check tokii mapl leaf digit loung link...\n",
      "3012    ahh wonder news rt ipad avail onlin order go g...\n",
      "7191    help clean organ newscont great job ipad owner...\n",
      "8335    franken take shot appl app process cc stribpol...\n",
      "5053    rt manufactur serendip quothav access inform m...\n",
      "Name: cleaned_text, dtype: object\n"
     ]
    }
   ],
   "source": [
    "# Define stop words and initialize the Porter Stemmer\n",
    "stop_words = set(stopwords.words('english'))\n",
    "porter_stemmer = PorterStemmer()\n",
    "\n",
    "# Updated preprocessing function to include stemming\n",
    "def preprocess_text(text):\n",
    "    # Lowercase the text\n",
    "    text = text.lower() \n",
    "    \n",
    "    # Remove Twitter usernames, punctuation, and digits\n",
    "    text = re.sub(r'@\\w+|[^\\w\\s]|[\\d]+', '', text)  # Combined pattern\n",
    "    \n",
    "    # Tokenize the text\n",
    "    tokens = word_tokenize(text)\n",
    "    \n",
    "    # Remove stopwords and apply stemming\n",
    "    tokens = [porter_stemmer.stem(word) for word in tokens if word not in stop_words]\n",
    "    \n",
    "    return ' '.join(tokens)\n",
    "\n",
    "# Preprocess the 'Text' column for each split\n",
    "X_train_final['cleaned_text'] = X_train_final['Text'].apply(preprocess_text)\n",
    "X_val['cleaned_text'] = X_val['Text'].apply(preprocess_text)\n",
    "X_test['cleaned_text'] = X_test['Text'].apply(preprocess_text)\n",
    "\n",
    "# Display the cleaned text for the training set\n",
    "print(X_train_final['cleaned_text'].head())"
   ]
  },
  {
   "cell_type": "markdown",
   "metadata": {},
   "source": [
    "#### Text Vectorization"
   ]
  },
  {
   "cell_type": "code",
   "execution_count": 62,
   "metadata": {},
   "outputs": [
    {
     "name": "stdout",
     "output_type": "stream",
     "text": [
      "TF-IDF training data shape: (7709, 5000)\n",
      "TF-IDF validation data shape: (1361, 5000)\n",
      "TF-IDF testing data shape: (907, 5000)\n"
     ]
    }
   ],
   "source": [
    "# Initialize the TF-IDF Vectorizer (limit to top 5000 features)\n",
    "tfidf_vectorizer = TfidfVectorizer(max_features=5000)\n",
    "\n",
    "# Fit and transform the training data, and transform the test data\n",
    "X_train_tfidf = tfidf_vectorizer.fit_transform(X_train_final['cleaned_text'])\n",
    "X_val_tfidf = tfidf_vectorizer.transform(X_val['cleaned_text'])\n",
    "X_test_tfidf = tfidf_vectorizer.transform(X_test['cleaned_text'])\n",
    "\n",
    "# Display the shape of the TF-IDF matrices\n",
    "print(f\"TF-IDF training data shape: {X_train_tfidf.shape}\")\n",
    "print(f\"TF-IDF validation data shape: {X_val_tfidf.shape}\")\n",
    "print(f\"TF-IDF testing data shape: {X_test_tfidf.shape}\")"
   ]
  },
  {
   "cell_type": "markdown",
   "metadata": {},
   "source": [
    "#### Modeling"
   ]
  },
  {
   "cell_type": "code",
   "execution_count": 64,
   "metadata": {},
   "outputs": [
    {
     "name": "stdout",
     "output_type": "stream",
     "text": [
      "0.6891991182953711\n"
     ]
    }
   ],
   "source": [
    "from sklearn.linear_model import LogisticRegression\n",
    "\n",
    "# Initialize the Logistic Regression model\n",
    "logreg_model = LogisticRegression(max_iter=10000)\n",
    "\n",
    "# Train the model on the training data\n",
    "logreg_model.fit(X_train_tfidf, y_train_final)\n",
    "\n",
    "# Predict the sentiment on the val set\n",
    "y_pred_logreg = logreg_model.predict(X_val_tfidf)\n",
    "acc = accuracy_score(y_pred_logreg, y_val)\n",
    "print(acc)"
   ]
  },
  {
   "cell_type": "code",
   "execution_count": null,
   "metadata": {},
   "outputs": [],
   "source": []
  },
  {
   "cell_type": "code",
   "execution_count": null,
   "metadata": {},
   "outputs": [],
   "source": []
  },
  {
   "cell_type": "code",
   "execution_count": null,
   "metadata": {},
   "outputs": [],
   "source": []
  },
  {
   "cell_type": "code",
   "execution_count": null,
   "metadata": {},
   "outputs": [],
   "source": []
  },
  {
   "cell_type": "code",
   "execution_count": null,
   "metadata": {},
   "outputs": [],
   "source": []
  }
 ],
 "metadata": {
  "kernelspec": {
   "display_name": "learn-env",
   "language": "python",
   "name": "python3"
  },
  "language_info": {
   "codemirror_mode": {
    "name": "ipython",
    "version": 3
   },
   "file_extension": ".py",
   "mimetype": "text/x-python",
   "name": "python",
   "nbconvert_exporter": "python",
   "pygments_lexer": "ipython3",
   "version": "3.8.5"
  }
 },
 "nbformat": 4,
 "nbformat_minor": 2
}
