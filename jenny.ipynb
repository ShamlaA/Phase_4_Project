{
 "cells": [
  {
   "cell_type": "markdown",
   "metadata": {},
   "source": [
    "# Phase 4 Project"
   ]
  },
  {
   "cell_type": "markdown",
   "metadata": {},
   "source": [
    "### Business Problem"
   ]
  },
  {
   "cell_type": "markdown",
   "metadata": {},
   "source": [
    "Company Zen has been marketing and selling Apple and Google products for an year now. One of their main platform is Twitter and they have hired me to build a model to help them classify the sentiments on the product offering so as to enable them make informed decision to strengthen or reassess their relationships with Apple and Google based on how customers are responding to the products."
   ]
  },
  {
   "cell_type": "markdown",
   "metadata": {},
   "source": [
    "### Business Understanding"
   ]
  },
  {
   "cell_type": "markdown",
   "metadata": {},
   "source": [
    "Understanding customer feel and think on products is very crucial as it impacts the marketing and product offering. Twitter offers real-time insights that would help the company react quicky to feedback and possible recover service. Identifying trends and sentiment patterns early, will enable Zen outpace competitors in refining their campaigns and address customer pain points.\n",
    "See below objectives that the model seeks to answer:\n",
    "* Develop a model to predict the positive and negative sentiments?\n",
    "* What products have the best and worst sentiments?\n",
    "* Should Company Zen continue this partneship with Apple and Google?"
   ]
  },
  {
   "cell_type": "markdown",
   "metadata": {},
   "source": [
    "### Data Understanding"
   ]
  },
  {
   "cell_type": "markdown",
   "metadata": {},
   "source": [
    "The dataset was downloaded from CrowdFlower and is stored in the data folder. Human raters rated the sentiments in over 9,000 Tweets as positive, negative, or neither. A possible limitation on the **Is_there_an_emotion_directed_at_a_brand_or_product** is that the sentiments were rated by humans who are prone to bias depending on their emotions and understanding of the sentiment categories. It would be interesting to consider using techniques such as VADER to capture the machine labelled sentiments. See the breakdown of the columns the data is in.\n",
    "\n",
    "**Tweet_text** -- actual text of the tweets\n",
    "\n",
    "**Emotion_in_tweet_is_directed_at** -- who or what the emotion expressed in the tweet is directed at\n",
    "\n",
    "**Is_there_an_emotion_directed_at_a_brand_or_product** -- whether the tweet contains an emotion directed at a specific brand or product\n"
   ]
  },
  {
   "cell_type": "markdown",
   "metadata": {},
   "source": [
    "#### Import Libraries"
   ]
  },
  {
   "cell_type": "code",
   "execution_count": 212,
   "metadata": {},
   "outputs": [
    {
     "name": "stderr",
     "output_type": "stream",
     "text": [
      "[nltk_data] Downloading package punkt to\n",
      "[nltk_data]     C:\\Users\\User\\AppData\\Roaming\\nltk_data...\n",
      "[nltk_data]   Package punkt is already up-to-date!\n",
      "[nltk_data] Downloading package wordnet to\n",
      "[nltk_data]     C:\\Users\\User\\AppData\\Roaming\\nltk_data...\n",
      "[nltk_data]   Package wordnet is already up-to-date!\n"
     ]
    }
   ],
   "source": [
    "#Import relevant libraries\n",
    "import pandas as pd\n",
    "import numpy as np\n",
    "\n",
    "import matplotlib.pyplot as plt\n",
    "import seaborn as sns\n",
    "%matplotlib inline\n",
    "\n",
    "import nltk\n",
    "import re\n",
    "nltk.download('punkt')\n",
    "nltk.download('stopwords', quiet=True)\n",
    "nltk.download('wordnet')\n",
    "from nltk.corpus import stopwords\n",
    "from nltk.tokenize import word_tokenize\n",
    "from nltk.tokenize import RegexpTokenizer\n",
    "from nltk import FreqDist\n",
    "from nltk.stem import WordNetLemmatizer\n",
    "\n",
    "from sklearn.feature_extraction.text import TfidfVectorizer\n",
    "from sklearn.model_selection import train_test_split, cross_val_score\n",
    "from imblearn.over_sampling import SMOTE\n",
    "from scipy.sparse.csr import csr_matrix\n",
    "from sklearn.naive_bayes import MultinomialNB\n",
    "from sklearn.tree import DecisionTreeClassifier\n",
    "from sklearn.metrics import confusion_matrix, ConfusionMatrixDisplay, accuracy_score, precision_score, classification_report, recall_score\n",
    "\n",
    "import warnings\n",
    "warnings.filterwarnings('ignore')"
   ]
  },
  {
   "cell_type": "markdown",
   "metadata": {},
   "source": [
    "#### Load & Inspect Data"
   ]
  },
  {
   "cell_type": "code",
   "execution_count": 213,
   "metadata": {},
   "outputs": [
    {
     "data": {
      "text/html": [
       "<div>\n",
       "<style scoped>\n",
       "    .dataframe tbody tr th:only-of-type {\n",
       "        vertical-align: middle;\n",
       "    }\n",
       "\n",
       "    .dataframe tbody tr th {\n",
       "        vertical-align: top;\n",
       "    }\n",
       "\n",
       "    .dataframe thead th {\n",
       "        text-align: right;\n",
       "    }\n",
       "</style>\n",
       "<table border=\"1\" class=\"dataframe\">\n",
       "  <thead>\n",
       "    <tr style=\"text-align: right;\">\n",
       "      <th></th>\n",
       "      <th>tweet_text</th>\n",
       "      <th>emotion_in_tweet_is_directed_at</th>\n",
       "      <th>is_there_an_emotion_directed_at_a_brand_or_product</th>\n",
       "    </tr>\n",
       "  </thead>\n",
       "  <tbody>\n",
       "    <tr>\n",
       "      <th>0</th>\n",
       "      <td>.@wesley83 I have a 3G iPhone. After 3 hrs twe...</td>\n",
       "      <td>iPhone</td>\n",
       "      <td>Negative emotion</td>\n",
       "    </tr>\n",
       "    <tr>\n",
       "      <th>1</th>\n",
       "      <td>@jessedee Know about @fludapp ? Awesome iPad/i...</td>\n",
       "      <td>iPad or iPhone App</td>\n",
       "      <td>Positive emotion</td>\n",
       "    </tr>\n",
       "    <tr>\n",
       "      <th>2</th>\n",
       "      <td>@swonderlin Can not wait for #iPad 2 also. The...</td>\n",
       "      <td>iPad</td>\n",
       "      <td>Positive emotion</td>\n",
       "    </tr>\n",
       "    <tr>\n",
       "      <th>3</th>\n",
       "      <td>@sxsw I hope this year's festival isn't as cra...</td>\n",
       "      <td>iPad or iPhone App</td>\n",
       "      <td>Negative emotion</td>\n",
       "    </tr>\n",
       "    <tr>\n",
       "      <th>4</th>\n",
       "      <td>@sxtxstate great stuff on Fri #SXSW: Marissa M...</td>\n",
       "      <td>Google</td>\n",
       "      <td>Positive emotion</td>\n",
       "    </tr>\n",
       "  </tbody>\n",
       "</table>\n",
       "</div>"
      ],
      "text/plain": [
       "                                          tweet_text  \\\n",
       "0  .@wesley83 I have a 3G iPhone. After 3 hrs twe...   \n",
       "1  @jessedee Know about @fludapp ? Awesome iPad/i...   \n",
       "2  @swonderlin Can not wait for #iPad 2 also. The...   \n",
       "3  @sxsw I hope this year's festival isn't as cra...   \n",
       "4  @sxtxstate great stuff on Fri #SXSW: Marissa M...   \n",
       "\n",
       "  emotion_in_tweet_is_directed_at  \\\n",
       "0                          iPhone   \n",
       "1              iPad or iPhone App   \n",
       "2                            iPad   \n",
       "3              iPad or iPhone App   \n",
       "4                          Google   \n",
       "\n",
       "  is_there_an_emotion_directed_at_a_brand_or_product  \n",
       "0                                   Negative emotion  \n",
       "1                                   Positive emotion  \n",
       "2                                   Positive emotion  \n",
       "3                                   Negative emotion  \n",
       "4                                   Positive emotion  "
      ]
     },
     "execution_count": 213,
     "metadata": {},
     "output_type": "execute_result"
    }
   ],
   "source": [
    "# Load the dataset\n",
    "df = pd.read_csv('data/judge-1377884607_tweet_product_company.csv', encoding='ISO-8859-1')\n",
    "# Preview the first five rows\n",
    "df.head()"
   ]
  },
  {
   "cell_type": "markdown",
   "metadata": {},
   "source": [
    "* The column names are so long. Let us proceed to **rename** for ease of access"
   ]
  },
  {
   "cell_type": "code",
   "execution_count": 214,
   "metadata": {},
   "outputs": [
    {
     "data": {
      "text/html": [
       "<div>\n",
       "<style scoped>\n",
       "    .dataframe tbody tr th:only-of-type {\n",
       "        vertical-align: middle;\n",
       "    }\n",
       "\n",
       "    .dataframe tbody tr th {\n",
       "        vertical-align: top;\n",
       "    }\n",
       "\n",
       "    .dataframe thead th {\n",
       "        text-align: right;\n",
       "    }\n",
       "</style>\n",
       "<table border=\"1\" class=\"dataframe\">\n",
       "  <thead>\n",
       "    <tr style=\"text-align: right;\">\n",
       "      <th></th>\n",
       "      <th>Text</th>\n",
       "      <th>Product</th>\n",
       "      <th>Sentiment</th>\n",
       "    </tr>\n",
       "  </thead>\n",
       "  <tbody>\n",
       "    <tr>\n",
       "      <th>0</th>\n",
       "      <td>.@wesley83 I have a 3G iPhone. After 3 hrs twe...</td>\n",
       "      <td>iPhone</td>\n",
       "      <td>Negative emotion</td>\n",
       "    </tr>\n",
       "    <tr>\n",
       "      <th>1</th>\n",
       "      <td>@jessedee Know about @fludapp ? Awesome iPad/i...</td>\n",
       "      <td>iPad or iPhone App</td>\n",
       "      <td>Positive emotion</td>\n",
       "    </tr>\n",
       "    <tr>\n",
       "      <th>2</th>\n",
       "      <td>@swonderlin Can not wait for #iPad 2 also. The...</td>\n",
       "      <td>iPad</td>\n",
       "      <td>Positive emotion</td>\n",
       "    </tr>\n",
       "    <tr>\n",
       "      <th>3</th>\n",
       "      <td>@sxsw I hope this year's festival isn't as cra...</td>\n",
       "      <td>iPad or iPhone App</td>\n",
       "      <td>Negative emotion</td>\n",
       "    </tr>\n",
       "    <tr>\n",
       "      <th>4</th>\n",
       "      <td>@sxtxstate great stuff on Fri #SXSW: Marissa M...</td>\n",
       "      <td>Google</td>\n",
       "      <td>Positive emotion</td>\n",
       "    </tr>\n",
       "  </tbody>\n",
       "</table>\n",
       "</div>"
      ],
      "text/plain": [
       "                                                Text             Product  \\\n",
       "0  .@wesley83 I have a 3G iPhone. After 3 hrs twe...              iPhone   \n",
       "1  @jessedee Know about @fludapp ? Awesome iPad/i...  iPad or iPhone App   \n",
       "2  @swonderlin Can not wait for #iPad 2 also. The...                iPad   \n",
       "3  @sxsw I hope this year's festival isn't as cra...  iPad or iPhone App   \n",
       "4  @sxtxstate great stuff on Fri #SXSW: Marissa M...              Google   \n",
       "\n",
       "          Sentiment  \n",
       "0  Negative emotion  \n",
       "1  Positive emotion  \n",
       "2  Positive emotion  \n",
       "3  Negative emotion  \n",
       "4  Positive emotion  "
      ]
     },
     "execution_count": 214,
     "metadata": {},
     "output_type": "execute_result"
    }
   ],
   "source": [
    "# Rename columns for ease of access\n",
    "df.rename(columns={\n",
    "    'tweet_text': 'Text',\n",
    "    'emotion_in_tweet_is_directed_at': 'Product',\n",
    "    'is_there_an_emotion_directed_at_a_brand_or_product': 'Sentiment'\n",
    "}, inplace=True)\n",
    "\n",
    "# Preview the renamed columns\n",
    "df.head()"
   ]
  },
  {
   "cell_type": "code",
   "execution_count": 215,
   "metadata": {},
   "outputs": [
    {
     "data": {
      "text/plain": [
       "(9093, 3)"
      ]
     },
     "execution_count": 215,
     "metadata": {},
     "output_type": "execute_result"
    }
   ],
   "source": [
    "#To view the shape of the dataset\n",
    "df.shape"
   ]
  },
  {
   "cell_type": "markdown",
   "metadata": {},
   "source": [
    "* We have 9093 tweet texts and 3 columns renamed as above."
   ]
  },
  {
   "cell_type": "code",
   "execution_count": 216,
   "metadata": {},
   "outputs": [
    {
     "name": "stdout",
     "output_type": "stream",
     "text": [
      "<class 'pandas.core.frame.DataFrame'>\n",
      "RangeIndex: 9093 entries, 0 to 9092\n",
      "Data columns (total 3 columns):\n",
      " #   Column     Non-Null Count  Dtype \n",
      "---  ------     --------------  ----- \n",
      " 0   Text       9092 non-null   object\n",
      " 1   Product    3291 non-null   object\n",
      " 2   Sentiment  9093 non-null   object\n",
      "dtypes: object(3)\n",
      "memory usage: 213.2+ KB\n"
     ]
    }
   ],
   "source": [
    "#To view the dataset information\n",
    "df.info()"
   ]
  },
  {
   "cell_type": "markdown",
   "metadata": {},
   "source": [
    "* We can view the datatype as object for the three columns and some missing values detected under the Non-null count which we shall further investigate."
   ]
  },
  {
   "cell_type": "markdown",
   "metadata": {},
   "source": [
    "#### Checking For Duplicates\n"
   ]
  },
  {
   "cell_type": "code",
   "execution_count": 217,
   "metadata": {},
   "outputs": [
    {
     "name": "stdout",
     "output_type": "stream",
     "text": [
      "Number of duplicate rows: 22\n"
     ]
    }
   ],
   "source": [
    "# Check the number of duplicate rows\n",
    "num_duplicates = df.duplicated().sum()\n",
    "print(f\"Number of duplicate rows: {num_duplicates}\")\n",
    "# Remove duplicate rows\n",
    "df_cleaned = df.drop_duplicates()"
   ]
  },
  {
   "cell_type": "markdown",
   "metadata": {},
   "source": [
    "#### Checking For Missing Values"
   ]
  },
  {
   "cell_type": "code",
   "execution_count": 218,
   "metadata": {},
   "outputs": [
    {
     "data": {
      "text/plain": [
       "Text            1\n",
       "Product      5789\n",
       "Sentiment       0\n",
       "dtype: int64"
      ]
     },
     "execution_count": 218,
     "metadata": {},
     "output_type": "execute_result"
    }
   ],
   "source": [
    "#To view the missing values from the cleaned dataset\n",
    "df_cleaned.isnull().sum()"
   ]
  },
  {
   "cell_type": "markdown",
   "metadata": {},
   "source": [
    "* We note that some of the tweets have the product keywords found in the second column. As a result, we will search for the keywords from the tweet column and where we find the products we shall fill the null values with it. This will help us deal with smaller numbers of null values in this column"
   ]
  },
  {
   "cell_type": "code",
   "execution_count": 219,
   "metadata": {},
   "outputs": [
    {
     "name": "stdout",
     "output_type": "stream",
     "text": [
      "                                                Text             Product  \\\n",
      "0  .@wesley83 I have a 3G iPhone. After 3 hrs twe...              iPhone   \n",
      "1  @jessedee Know about @fludapp ? Awesome iPad/i...  iPad or iPhone App   \n",
      "2  @swonderlin Can not wait for #iPad 2 also. The...                iPad   \n",
      "3  @sxsw I hope this year's festival isn't as cra...  iPad or iPhone App   \n",
      "4  @sxtxstate great stuff on Fri #SXSW: Marissa M...              Google   \n",
      "5  @teachntech00 New iPad Apps For #SpeechTherapy...                iPad   \n",
      "6                                                NaN                 NaN   \n",
      "7  #SXSW is just starting, #CTIA is around the co...             Android   \n",
      "8  Beautifully smart and simple idea RT @madebyma...  iPad or iPhone App   \n",
      "9  Counting down the days to #sxsw plus strong Ca...               Apple   \n",
      "\n",
      "                            Sentiment  \n",
      "0                    Negative emotion  \n",
      "1                    Positive emotion  \n",
      "2                    Positive emotion  \n",
      "3                    Negative emotion  \n",
      "4                    Positive emotion  \n",
      "5  No emotion toward brand or product  \n",
      "6  No emotion toward brand or product  \n",
      "7                    Positive emotion  \n",
      "8                    Positive emotion  \n",
      "9                    Positive emotion  \n"
     ]
    }
   ],
   "source": [
    "# Example list of product names\n",
    "product_keywords = ['iPad', 'Apple', 'Google', 'iPhone', 'Android App', 'Android', 'iPad or iPhone App']\n",
    "\n",
    "# Function to extract product name from tweet text\n",
    "def extract_product(text):\n",
    "    if isinstance(text, str):  # Check if the text is a valid string\n",
    "        for product in product_keywords:\n",
    "            if product.lower() in text.lower():\n",
    "                return product\n",
    "    return np.nan  # Return NaN if no product is found or text is not a string\n",
    "\n",
    "df_cleaned['Product'] = df_cleaned.apply(\n",
    "    lambda row: extract_product(row['Text']) if pd.isnull(row['Product']) else row['Product'], axis=1\n",
    ")\n",
    "\n",
    "# Display the filled data\n",
    "print(df_cleaned.head(10))"
   ]
  },
  {
   "cell_type": "code",
   "execution_count": 220,
   "metadata": {},
   "outputs": [
    {
     "data": {
      "text/plain": [
       "Text           1\n",
       "Product      760\n",
       "Sentiment      0\n",
       "dtype: int64"
      ]
     },
     "execution_count": 220,
     "metadata": {},
     "output_type": "execute_result"
    }
   ],
   "source": [
    "df_cleaned.isnull().sum()"
   ]
  },
  {
   "cell_type": "markdown",
   "metadata": {},
   "source": [
    "* Since we have only one null row under the Text column we shall proceed to drop this null value then fill the product null values with a placeholder as the count of null values is actually too high and the product is important to us."
   ]
  },
  {
   "cell_type": "code",
   "execution_count": 221,
   "metadata": {},
   "outputs": [
    {
     "name": "stdout",
     "output_type": "stream",
     "text": [
      "Text         0\n",
      "Product      0\n",
      "Sentiment    0\n",
      "dtype: int64\n"
     ]
    }
   ],
   "source": [
    "# Drop missing values in 'Text' column\n",
    "df_cleaned = df_cleaned.dropna(subset=['Text'])\n",
    "\n",
    "# Fill missing values in 'Product' with a placeholder since we have 5789 null values.\n",
    "df_cleaned['Product'].fillna('Unknown Product', inplace=True)\n",
    "\n",
    "# Check if missing values are handled\n",
    "print(df_cleaned.isnull().sum())"
   ]
  },
  {
   "cell_type": "code",
   "execution_count": 222,
   "metadata": {},
   "outputs": [
    {
     "name": "stdout",
     "output_type": "stream",
     "text": [
      "No emotion toward brand or product    5375\n",
      "Positive emotion                      2970\n",
      "Negative emotion                       569\n",
      "Name: Sentiment, dtype: int64\n",
      "--------------\n",
      "Percentage of Distribution\n",
      "No emotion toward brand or product    60.298407\n",
      "Positive emotion                      33.318376\n",
      "Negative emotion                       6.383217\n",
      "Name: Sentiment, dtype: float64\n"
     ]
    },
    {
     "data": {
      "image/png": "[encoded data removed]",
      "text/plain": [
       "<Figure size 720x432 with 1 Axes>"
      ]
     },
     "metadata": {
      "needs_background": "light"
     },
     "output_type": "display_data"
    }
   ],
   "source": [
    "#Drop the \"I can't tell\" class label\n",
    "df_cleaned = df_cleaned[(df_cleaned['Sentiment']!= \"I can't tell\")]\n",
    "#To view the count of each unique features of our target variable\n",
    "sentiment_counts = df_cleaned['Sentiment'].value_counts()\n",
    "sentiment_counts_perc = df_cleaned['Sentiment'].value_counts(normalize=True)\n",
    "print(sentiment_counts)\n",
    "print('--------------')\n",
    "print('Percentage of Distribution')\n",
    "print(sentiment_counts_perc*100)\n",
    "# Create a bar plot\n",
    "plt.figure(figsize=(10, 6))\n",
    "sns.barplot(x=sentiment_counts.index, y=sentiment_counts.values)\n",
    "\n",
    "# Add labels and title\n",
    "plt.xlabel('Sentiment', fontsize=10)\n",
    "plt.ylabel('Count', fontsize=10)\n",
    "plt.title('Distribution of Sentiment Classes', fontsize=15)\n",
    "\n",
    "# Show the plot\n",
    "plt.show()"
   ]
  },
  {
   "cell_type": "markdown",
   "metadata": {},
   "source": [
    "* Most of the data reflects neutral or no emotional response about 60%, followed by a significant share of positive sentiment 33%, and a much smaller share of negative emotions 6%. The \"I can't tell\" category is marginal about 1.7%."
   ]
  },
  {
   "cell_type": "code",
   "execution_count": 223,
   "metadata": {},
   "outputs": [
    {
     "data": {
      "text/plain": [
       "Neutral             5375\n",
       "Positive emotion    2970\n",
       "Negative emotion     569\n",
       "Name: Sentiment, dtype: int64"
      ]
     },
     "execution_count": 223,
     "metadata": {},
     "output_type": "execute_result"
    }
   ],
   "source": [
    "#Decided to replace the no emotion toward branch or product with Neutral for use of interpretation\n",
    "df_cleaned['Sentiment'] = df_cleaned['Sentiment'].replace('No emotion toward brand or product', 'Neutral')\n",
    "df_cleaned['Sentiment'].value_counts() #Review the value counts of the classes of sentiments"
   ]
  },
  {
   "cell_type": "code",
   "execution_count": 224,
   "metadata": {},
   "outputs": [
    {
     "name": "stdout",
     "output_type": "stream",
     "text": [
      "iPad                               2464\n",
      "Google                             2083\n",
      "Apple                              1360\n",
      "iPhone                             1092\n",
      "Unknown Product                     753\n",
      "iPad or iPhone App                  469\n",
      "Other Google product or service     292\n",
      "Android                             263\n",
      "Android App                         103\n",
      "Other Apple product or service       35\n",
      "Name: Product, dtype: int64\n"
     ]
    },
    {
     "data": {
      "image/png": "[encoded data removed]",
      "text/plain": [
       "<Figure size 576x432 with 1 Axes>"
      ]
     },
     "metadata": {
      "needs_background": "light"
     },
     "output_type": "display_data"
    }
   ],
   "source": [
    "#To view the unique features of our product\n",
    "product_counts = df_cleaned['Product'].value_counts()\n",
    "print(product_counts)\n",
    "# Create a bar plot\n",
    "plt.figure(figsize=(8, 6))\n",
    "sns.barplot(x=product_counts.index, y=product_counts.values)\n",
    "\n",
    "# Add labels and title\n",
    "plt.xlabel('Product', fontsize=9)\n",
    "plt.ylabel('Count', fontsize=9)\n",
    "plt.title('Distribution of Product Category', fontsize=15)\n",
    "plt.xticks(rotation=90)\n",
    "\n",
    "# Show the plot\n",
    "plt.show()"
   ]
  },
  {
   "cell_type": "code",
   "execution_count": 225,
   "metadata": {},
   "outputs": [
    {
     "data": {
      "image/png": "[encoded data removed]",
      "text/plain": [
       "<Figure size 864x432 with 2 Axes>"
      ]
     },
     "metadata": {
      "needs_background": "light"
     },
     "output_type": "display_data"
    }
   ],
   "source": [
    "#Grouped the Product and Sentiments column in order to analyze the distribution of sentiments per product\n",
    "sentiment_counts = df_cleaned.groupby(['Product', 'Sentiment']).size().unstack(fill_value=0)\n",
    "\n",
    "# Plotting the heatmap\n",
    "plt.figure(figsize=(12, 6))\n",
    "sns.heatmap(sentiment_counts, annot=True, fmt='d', cmap='Blues', cbar=True)\n",
    "plt.title('Heatmap of Sentiment Counts per Product')\n",
    "plt.xlabel('Sentiment')\n",
    "plt.ylabel('Product')\n",
    "plt.tight_layout()\n",
    "plt.show()"
   ]
  },
  {
   "cell_type": "markdown",
   "metadata": {},
   "source": [
    "#### Text Preprocessing\n",
    "Here we will focus on the column Text containing the texts of the tweet and Perform Data Cleaning and Exploratory Data Analysis with nltk. Thereafter we shall proceed to split our cleaned data."
   ]
  },
  {
   "cell_type": "code",
   "execution_count": 226,
   "metadata": {},
   "outputs": [
    {
     "name": "stdout",
     "output_type": "stream",
     "text": [
      "                                                Text  \\\n",
      "0  .@wesley83 I have a 3G iPhone. After 3 hrs twe...   \n",
      "1  @jessedee Know about @fludapp ? Awesome iPad/i...   \n",
      "2  @swonderlin Can not wait for #iPad 2 also. The...   \n",
      "3  @sxsw I hope this year's festival isn't as cra...   \n",
      "4  @sxtxstate great stuff on Fri #SXSW: Marissa M...   \n",
      "5  @teachntech00 New iPad Apps For #SpeechTherapy...   \n",
      "7  #SXSW is just starting, #CTIA is around the co...   \n",
      "\n",
      "                                        Cleaned_Text  \n",
      "0  g iphone hr tweeting rise_austin dead need upg...  \n",
      "1  know awesome ipadiphone app youll likely appre...  \n",
      "2                           wait ipad also sale sxsw  \n",
      "3  hope year festival isnt crashy year iphone app...  \n",
      "4  great stuff fri sxsw marissa mayer google tim ...  \n",
      "5  new ipad apps speechtherapy communication show...  \n",
      "7  sxsw starting ctia around corner googleio hop ...  \n"
     ]
    }
   ],
   "source": [
    "#initialize the stopword\n",
    "stop_words = set(stopwords.words('english'))\n",
    "#Initialize the lemmatizer\n",
    "lemmatizer = WordNetLemmatizer()\n",
    "#Create a function that will be called to clean the texts\n",
    "def preprocess_text(text):\n",
    "    # Convert to lowercase\n",
    "    text = text.lower()\n",
    "    \n",
    "    # Remove URLs\n",
    "    text = re.sub(r'http\\S+|www\\S+|https\\S+', '', text, flags=re.MULTILINE)\n",
    "    \n",
    "    # Remove Twitter usernames, hashtags, punctuation, and digits\n",
    "    text = re.sub(r'@\\w+|#|[^\\w\\s]|[\\d]+', '', text)\n",
    "    \n",
    "    # Reduce repeated characters (e.g., \"loooove\" -> \"love\")\n",
    "    text = re.sub(r'(.)\\1+', r'\\1\\1', text)\n",
    "    \n",
    "    # Tokenize the text\n",
    "    tokens = word_tokenize(text)\n",
    "    \n",
    "    # Remove stopwords and apply lemmatization\n",
    "    tokens = [lemmatizer.lemmatize(word) for word in tokens if word not in stop_words]\n",
    "    \n",
    "    # Join the tokens back into a single string\n",
    "    text = ' '.join(tokens)\n",
    "    \n",
    "    # Remove extra whitespace\n",
    "    text = re.sub(r'\\s+', ' ', text).strip()\n",
    "    \n",
    "    return text\n",
    "# Apply the preprocess_text function to the 'Text' column\n",
    "df_cleaned['Cleaned_Text'] = df_cleaned['Text'].apply(preprocess_text)\n",
    "\n",
    "# Display the cleaned texts\n",
    "print(df_cleaned[['Text', 'Cleaned_Text']].head(7))"
   ]
  },
  {
   "cell_type": "markdown",
   "metadata": {},
   "source": [
    "#### Visualizing Top 15 Words From the Tweets"
   ]
  },
  {
   "cell_type": "code",
   "execution_count": 227,
   "metadata": {},
   "outputs": [
    {
     "data": {
      "image/png": "[encoded data removed]",
      "text/plain": [
       "<Figure size 720x432 with 1 Axes>"
      ]
     },
     "metadata": {
      "needs_background": "light"
     },
     "output_type": "display_data"
    }
   ],
   "source": [
    "from collections import Counter\n",
    "\n",
    "# Tokenize all cleaned text\n",
    "all_words = ' '.join(df_cleaned['Cleaned_Text']).split()\n",
    "\n",
    "# Count the frequency of each word\n",
    "word_counts = Counter(all_words)\n",
    "\n",
    "# Get the top 10 most common words\n",
    "top_15_words = word_counts.most_common(15)\n",
    "\n",
    "# Prepare data for plotting\n",
    "words, counts = zip(*top_15_words)\n",
    "\n",
    "# Create the bar plot\n",
    "plt.figure(figsize=(10, 6))\n",
    "sns.barplot(x=list(counts), y=list(words), palette='viridis')\n",
    "plt.title('Top 15 Most Common Words in Tweets')\n",
    "plt.xlabel('Word Frequency')\n",
    "plt.ylabel('Words')\n",
    "plt.show()"
   ]
  },
  {
   "cell_type": "markdown",
   "metadata": {},
   "source": [
    "#### Train Test Split "
   ]
  },
  {
   "cell_type": "code",
   "execution_count": 228,
   "metadata": {},
   "outputs": [
    {
     "name": "stdout",
     "output_type": "stream",
     "text": [
      "Multiclass - Training set size: 4991\n",
      "Multiclass - Validation set size: 2140\n",
      "Multiclass - Test set size: 1783\n"
     ]
    }
   ],
   "source": [
    "# Define the X and y variable for the multiclass labels\n",
    "X = df_cleaned['Cleaned_Text']  # Features (cleaned text)\n",
    "y = df_cleaned['Sentiment']     # Target (multiclass labels)\n",
    "\n",
    "# Step 1: Split test set (20%) for multiclass\n",
    "X_train_val, X_test, y_train_val, y_test = train_test_split(X, y, test_size=0.2, random_state=42, stratify=y)\n",
    "\n",
    "# Step 2: Split validation set (30%) for multiclass\n",
    "X_train, X_val, y_train, y_val = train_test_split(X_train_val, y_train_val, test_size=0.30, random_state=42, stratify=y_train_val)\n",
    "\n",
    "# Check the size of the splits for multiclass\n",
    "print(f\"Multiclass - Training set size: {len(X_train)}\")\n",
    "print(f\"Multiclass - Validation set size: {len(X_val)}\")\n",
    "print(f\"Multiclass - Test set size: {len(X_test)}\")"
   ]
  },
  {
   "cell_type": "markdown",
   "metadata": {},
   "source": [
    "#### Text Vectorization"
   ]
  },
  {
   "cell_type": "code",
   "execution_count": 229,
   "metadata": {},
   "outputs": [
    {
     "name": "stdout",
     "output_type": "stream",
     "text": [
      "TF-IDF training data shape: (4991, 5000)\n",
      "TF-IDF validation data shape: (2140, 5000)\n",
      "TF-IDF testing data shape: (1783, 5000)\n"
     ]
    }
   ],
   "source": [
    "# Initialize the TF-IDF Vectorizer\n",
    "tfidf_vectorizer = TfidfVectorizer(max_features=5000)\n",
    "\n",
    "# Fit and transform the training data, and transform the test data\n",
    "X_train_tfidf = tfidf_vectorizer.fit_transform(X_train)\n",
    "X_val_tfidf = tfidf_vectorizer.transform(X_val)\n",
    "X_test_tfidf = tfidf_vectorizer.transform(X_test)\n",
    "\n",
    "# Display the shape of the TF-IDF matrices\n",
    "print(f\"TF-IDF training data shape: {X_train_tfidf.shape}\")\n",
    "print(f\"TF-IDF validation data shape: {X_val_tfidf.shape}\")\n",
    "print(f\"TF-IDF testing data shape: {X_test_tfidf.shape}\")\n"
   ]
  },
  {
   "cell_type": "markdown",
   "metadata": {},
   "source": [
    "#### Modeling"
   ]
  },
  {
   "cell_type": "markdown",
   "metadata": {},
   "source": [
    "1.1 Logistic Regression"
   ]
  },
  {
   "cell_type": "code",
   "execution_count": 230,
   "metadata": {},
   "outputs": [
    {
     "name": "stdout",
     "output_type": "stream",
     "text": [
      "0.6789719626168225\n",
      "                  precision    recall  f1-score   support\n",
      "\n",
      "Negative emotion       0.67      0.04      0.08       137\n",
      "         Neutral       0.70      0.87      0.78      1290\n",
      "Positive emotion       0.62      0.45      0.52       713\n",
      "\n",
      "        accuracy                           0.68      2140\n",
      "       macro avg       0.66      0.46      0.46      2140\n",
      "    weighted avg       0.67      0.68      0.65      2140\n",
      "\n"
     ]
    }
   ],
   "source": [
    "from sklearn.linear_model import LogisticRegression\n",
    "\n",
    "# Initialize the Logistic Regression model\n",
    "logreg_model = LogisticRegression(max_iter=1000)\n",
    "\n",
    "# Train the model on the training data\n",
    "logreg_model.fit(X_train_tfidf, y_train)\n",
    "\n",
    "# Predict the sentiment on the val set\n",
    "y_pred_logreg = logreg_model.predict(X_val_tfidf)\n",
    "acc = accuracy_score(y_pred_logreg, y_val)\n",
    "print(acc)\n",
    "print(classification_report(y_val, y_pred_logreg))\n"
   ]
  },
  {
   "cell_type": "markdown",
   "metadata": {},
   "source": [
    "A high precision indicates that the model is good at not labeling negative instances as positive.\n",
    "\n",
    "Low recall for Negative emotion indicates the model struggles to recognize negative sentiments, likely due to class imbalance.\n",
    "\n",
    "Overall, the model is not performing well for negative sentiments.\n",
    "\n",
    "Overall Accuracy: 68% of predictions were correct across all classes. However, accuracy can be misleading in imbalanced datasets, as it does not account for how well the model performs on each class."
   ]
  },
  {
   "cell_type": "markdown",
   "metadata": {},
   "source": [
    "#### Cross Validation on the Baseline Model"
   ]
  },
  {
   "cell_type": "code",
   "execution_count": 233,
   "metadata": {},
   "outputs": [
    {
     "data": {
      "text/plain": [
       "0.6804211024651907"
      ]
     },
     "execution_count": 233,
     "metadata": {},
     "output_type": "execute_result"
    }
   ],
   "source": [
    "logreg_cv = cross_val_score(logreg_model, X_train_tfidf, y_train, cv=5, scoring='accuracy')\n",
    "logreg_cv.mean()"
   ]
  },
  {
   "cell_type": "markdown",
   "metadata": {},
   "source": [
    "The accuracy score slightly improves with the cross-validation method."
   ]
  },
  {
   "cell_type": "markdown",
   "metadata": {},
   "source": [
    "### Handling Class Imbalance Using Smote"
   ]
  },
  {
   "cell_type": "code",
   "execution_count": 236,
   "metadata": {},
   "outputs": [
    {
     "name": "stdout",
     "output_type": "stream",
     "text": [
      "Original training set: Counter({'Neutral': 3010, 'Positive emotion': 1663, 'Negative emotion': 318})\n",
      "Resampled training set: Counter({'Neutral': 3010, 'Positive emotion': 3010, 'Negative emotion': 3010})\n"
     ]
    }
   ],
   "source": [
    "# Step 3: Apply SMOTE to the training set\n",
    "smote = SMOTE(random_state=42)\n",
    "X_train_resampled, y_train_resampled = smote.fit_resample(X_train_tfidf, y_train)\n",
    "\n",
    "# Check the class distribution before and after SMOTE\n",
    "print(\"Original training set:\", Counter(y_train))\n",
    "print(\"Resampled training set:\", Counter(y_train_resampled))"
   ]
  },
  {
   "cell_type": "markdown",
   "metadata": {},
   "source": [
    "#### Logistic Regression With Balanced Classes"
   ]
  },
  {
   "cell_type": "code",
   "execution_count": 239,
   "metadata": {},
   "outputs": [
    {
     "name": "stdout",
     "output_type": "stream",
     "text": [
      "0.6383177570093458\n",
      "                  precision    recall  f1-score   support\n",
      "\n",
      "Negative emotion       0.29      0.47      0.36       137\n",
      "         Neutral       0.76      0.68      0.72      1290\n",
      "Positive emotion       0.55      0.60      0.58       713\n",
      "\n",
      "        accuracy                           0.64      2140\n",
      "       macro avg       0.54      0.58      0.55      2140\n",
      "    weighted avg       0.66      0.64      0.65      2140\n",
      "\n"
     ]
    }
   ],
   "source": [
    "# Retrain the Logistic Regression model with the balanced data\n",
    "logreg_model_balanced = LogisticRegression(max_iter=1000)\n",
    "# Train the model on the training data\n",
    "logreg_model_balanced.fit(X_train_resampled, y_train_resampled)\n",
    "\n",
    "# Predict the sentiment on the val set\n",
    "y_pred_logreg = logreg_model_balanced.predict(X_val_tfidf)\n",
    "acc = accuracy_score(y_pred_logreg, y_val)\n",
    "print(acc)\n",
    "print(classification_report(y_val, y_pred_logreg))"
   ]
  },
  {
   "cell_type": "markdown",
   "metadata": {},
   "source": [
    "Negative Emotion: This indicate improved recall but lower precision. This means the model is identifying more negative instances, but many predicted negatives are false positives. This is an improvement but still indicates room for refinement.\n",
    "\n",
    "Neutral Emotion: Precision is high but has dropped slightly, indicating that while the model is still reliable, it might be misclassifying some instances.\n",
    "\n",
    "Positive Emotion: Overall performance improved with better recall and slightly reduced precision, reflecting a balanced identification of positive sentiments.\n",
    "\n",
    "The improved recall is critical as the model now can classify the negative sentiments."
   ]
  },
  {
   "cell_type": "markdown",
   "metadata": {},
   "source": [
    "1.2 Naive Bayes Classification"
   ]
  },
  {
   "cell_type": "code",
   "execution_count": 248,
   "metadata": {},
   "outputs": [
    {
     "name": "stdout",
     "output_type": "stream",
     "text": [
      "                  precision    recall  f1-score   support\n",
      "\n",
      "Negative emotion       0.25      0.57      0.35       137\n",
      "         Neutral       0.77      0.56      0.65      1290\n",
      "Positive emotion       0.51      0.64      0.56       713\n",
      "\n",
      "        accuracy                           0.59      2140\n",
      "       macro avg       0.51      0.59      0.52      2140\n",
      "    weighted avg       0.65      0.59      0.60      2140\n",
      "\n"
     ]
    }
   ],
   "source": [
    "# Instantiate a MultinomialNB classifier\n",
    "baseline_model = MultinomialNB()\n",
    "\n",
    "# Fit the model to the training data\n",
    "baseline_model.fit(X_train_resampled, y_train_resampled)\n",
    "\n",
    "# Predict on the validation set\n",
    "y_val_pred = baseline_model.predict(X_val_tfidf)\n",
    "\n",
    "# Generate classification report\n",
    "report = classification_report(y_val, y_val_pred)\n",
    "print(report)"
   ]
  },
  {
   "cell_type": "code",
   "execution_count": 244,
   "metadata": {},
   "outputs": [
    {
     "name": "stdout",
     "output_type": "stream",
     "text": [
      "Validation Set Performance:\n",
      "                  precision    recall  f1-score   support\n",
      "\n",
      "Negative emotion       0.52      0.21      0.30       137\n",
      "         Neutral       0.70      0.83      0.76      1290\n",
      "Positive emotion       0.59      0.47      0.53       713\n",
      "\n",
      "        accuracy                           0.67      2140\n",
      "       macro avg       0.60      0.50      0.53      2140\n",
      "    weighted avg       0.66      0.67      0.65      2140\n",
      "\n"
     ]
    },
    {
     "data": {
      "image/png": "[encoded data removed]",
      "text/plain": [
       "<Figure size 432x288 with 2 Axes>"
      ]
     },
     "metadata": {
      "needs_background": "light"
     },
     "output_type": "display_data"
    }
   ],
   "source": [
    "from sklearn.ensemble import RandomForestClassifier\n",
    "# Initialize the Random Forest Classifier\n",
    "rf_classifier = RandomForestClassifier(random_state=42)\n",
    "\n",
    "# Initialize Random Forest Classifier\n",
    "rf_classifier = RandomForestClassifier(random_state=42)\n",
    "\n",
    "# Fit the model on the resampled training data\n",
    "rf_classifier.fit(X_train_resampled, y_train_resampled)\n",
    "\n",
    "# Predict on validation set\n",
    "y_val_pred = rf_classifier.predict(X_val_tfidf)\n",
    "\n",
    "# Evaluation on validation set\n",
    "print(\"Validation Set Performance:\")\n",
    "print(classification_report(y_val, y_val_pred))\n",
    "\n",
    "# Confusion Matrix\n",
    "cnf_matrix = confusion_matrix(y_val, y_val_pred)\n",
    "disp = ConfusionMatrixDisplay(confusion_matrix=cnf_matrix, display_labels=rf_classifier.classes_)\n",
    "disp.plot(cmap=plt.cm.Blues)\n",
    "plt.title(\"Confusion Matrix for Random Forest Classifier\")\n",
    "plt.show()"
   ]
  },
  {
   "cell_type": "code",
   "execution_count": 253,
   "metadata": {},
   "outputs": [
    {
     "name": "stdout",
     "output_type": "stream",
     "text": [
      "Best Parameters: {'rf__max_depth': None, 'rf__min_samples_leaf': 1, 'rf__min_samples_split': 2, 'rf__n_estimators': 200}\n",
      "Best Score: 0.8468451993534261\n"
     ]
    }
   ],
   "source": [
    "from sklearn.pipeline import Pipeline\n",
    "from sklearn.model_selection import GridSearchCV\n",
    "# Create a pipeline with RandomForestClassifier\n",
    "pipeline = Pipeline([\n",
    "    ('rf', RandomForestClassifier(random_state=42))\n",
    "])\n",
    "# Define the parameter grid for Grid Search\n",
    "param_grid = {\n",
    "    'rf__n_estimators': [50, 200, 250],\n",
    "    'rf__max_depth': [None, 10, 5],\n",
    "    'rf__min_samples_split': [2, 4],\n",
    "    'rf__min_samples_leaf': [1, 2],\n",
    "}\n",
    "# Initialize Grid Search\n",
    "grid_search = GridSearchCV(pipeline, param_grid, cv=5, scoring='f1_weighted', n_jobs=-1)\n",
    "\n",
    "# Fit the model on the training data (assumes you have X_train and y_train)\n",
    "grid_search.fit(X_train_resampled, y_train_resampled)\n",
    "\n",
    "# Best parameters and best score\n",
    "print(\"Best Parameters:\", grid_search.best_params_)\n",
    "print(\"Best Score:\", grid_search.best_score_)"
   ]
  },
  {
   "cell_type": "code",
   "execution_count": 254,
   "metadata": {},
   "outputs": [
    {
     "name": "stdout",
     "output_type": "stream",
     "text": [
      "Validation Set Performance:\n",
      "                  precision    recall  f1-score   support\n",
      "\n",
      "Negative emotion       0.52      0.22      0.31       137\n",
      "         Neutral       0.70      0.83      0.76      1290\n",
      "Positive emotion       0.60      0.47      0.53       713\n",
      "\n",
      "        accuracy                           0.67      2140\n",
      "       macro avg       0.61      0.51      0.53      2140\n",
      "    weighted avg       0.66      0.67      0.66      2140\n",
      "\n"
     ]
    },
    {
     "data": {
      "image/png": "[encoded data removed]",
      "text/plain": [
       "<Figure size 432x288 with 2 Axes>"
      ]
     },
     "metadata": {
      "needs_background": "light"
     },
     "output_type": "display_data"
    }
   ],
   "source": [
    "# Predict on the validation set\n",
    "y_val_pred = grid_search.best_estimator_.predict(X_val_tfidf)\n",
    "\n",
    "# Evaluation on the validation set\n",
    "print(\"Validation Set Performance:\")\n",
    "print(classification_report(y_val, y_val_pred))\n",
    "\n",
    "# Confusion Matrix\n",
    "cnf_matrix = confusion_matrix(y_val, y_val_pred)\n",
    "disp = ConfusionMatrixDisplay(confusion_matrix=cnf_matrix, display_labels=grid_search.best_estimator_.classes_)\n",
    "disp.plot(cmap=plt.cm.Blues)\n",
    "plt.title(\"Confusion Matrix for Random Forest Classifier\")\n",
    "plt.show()"
   ]
  },
  {
   "cell_type": "code",
   "execution_count": null,
   "metadata": {},
   "outputs": [],
   "source": []
  },
  {
   "cell_type": "code",
   "execution_count": 200,
   "metadata": {},
   "outputs": [],
   "source": [
    "# from vaderSentiment.vaderSentiment import SentimentIntensityAnalyzer\n",
    "\n",
    "# # Initialize VADER Sentiment Analyzer\n",
    "# analyzer = SentimentIntensityAnalyzer()\n",
    "\n",
    "# # Function to analyze sentiment\n",
    "# def get_sentiment(text):\n",
    "#     scores = analyzer.polarity_scores(text)\n",
    "#     # Determine overall sentiment\n",
    "#     if scores['compound'] >= 0.05:\n",
    "#         return 'Positive'\n",
    "#     elif scores['compound'] <= -0.05:\n",
    "#         return 'Negative'\n",
    "#     else:\n",
    "#         return 'Neutral'\n",
    "\n",
    "# # Apply the function to the 'Tweet' column and create a new column 'Sentiment'\n",
    "# df_cleaned['Sentiment'] = df_cleaned['Text'].apply(get_sentiment)\n",
    "\n",
    "# # Display the DataFrame with sentiments\n",
    "# print(df_cleaned['Sentiment'].value_counts())"
   ]
  },
  {
   "cell_type": "code",
   "execution_count": null,
   "metadata": {},
   "outputs": [],
   "source": []
  },
  {
   "cell_type": "code",
   "execution_count": null,
   "metadata": {},
   "outputs": [],
   "source": []
  },
  {
   "cell_type": "code",
   "execution_count": null,
   "metadata": {},
   "outputs": [],
   "source": []
  },
  {
   "cell_type": "code",
   "execution_count": null,
   "metadata": {},
   "outputs": [],
   "source": []
  }
 ],
 "metadata": {
  "kernelspec": {
   "display_name": "learn-env",
   "language": "python",
   "name": "python3"
  },
  "language_info": {
   "codemirror_mode": {
    "name": "ipython",
    "version": 3
   },
   "file_extension": ".py",
   "mimetype": "text/x-python",
   "name": "python",
   "nbconvert_exporter": "python",
   "pygments_lexer": "ipython3",
   "version": "3.8.5"
  }
 },
 "nbformat": 4,
 "nbformat_minor": 2
}
