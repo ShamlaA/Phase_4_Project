{
 "cells": [
  {
   "cell_type": "markdown",
   "metadata": {},
   "source": [
    "### INTRODUCTION\n",
    "\n",
    "## \n",
    "\n",
    "### BUSINESS UNDERSTANDING\n",
    "\n",
    "##\n",
    "\n",
    "### PROBLEM STATEMENT\n",
    "\n",
    "##\n",
    "\n",
    "\n",
    "### OBJECTIVES\n",
    "\n",
    "##"
   ]
  },
  {
   "cell_type": "markdown",
   "metadata": {},
   "source": [
    "## DATA UNDERSTANDING\n",
    "\n",
    "### We are going to be using the data Twitter sentiments  about google and apple products  from CrowdFlower. This is the  [Link] to the data. The csv file contains  the following  variables\n",
    "\n",
    "- `Tweet_text`: Tweet content\n",
    "- `semotion_in_tweet_is_directed_at`: The type of device from which the twitter sentimnent was sent\n",
    "- `emotion`: Emotion of the tweet ,the emotion is classifies as Negative, Positive ,no emotion  or a state where the person could not classify the emotion in the tween , labeled as \"I can't tell\"\n",
    "\n"
   ]
  },
  {
   "cell_type": "markdown",
   "metadata": {},
   "source": [
    "## Importing Libraries"
   ]
  },
  {
   "cell_type": "code",
   "execution_count": 2,
   "metadata": {},
   "outputs": [
    {
     "name": "stderr",
     "output_type": "stream",
     "text": [
      "[nltk_data] Downloading package punkt to C:\\Users\\Ruth\n",
      "[nltk_data]     Kioko\\AppData\\Roaming\\nltk_data...\n",
      "[nltk_data]   Package punkt is already up-to-date!\n",
      "[nltk_data] Downloading package stopwords to C:\\Users\\Ruth\n",
      "[nltk_data]     Kioko\\AppData\\Roaming\\nltk_data...\n",
      "[nltk_data]   Package stopwords is already up-to-date!\n",
      "[nltk_data] Downloading package wordnet to C:\\Users\\Ruth\n",
      "[nltk_data]     Kioko\\AppData\\Roaming\\nltk_data...\n",
      "[nltk_data]   Package wordnet is already up-to-date!\n"
     ]
    }
   ],
   "source": [
    "import matplotlib.pyplot as plt\n",
    "import numpy as np \n",
    "import pandas as pd \n",
    "import nltk  \n",
    "from nltk.corpus import stopwords\n",
    "from nltk.tokenize import regexp_tokenize, word_tokenize, RegexpTokenizer  \n",
    "from nltk.stem import PorterStemmer  \n",
    "from nltk.probability import FreqDist\n",
    "from nltk.stem import WordNetLemmatizer\n",
    "from nltk.corpus import stopwords\n",
    "import os\n",
    "import re\n",
    "import sys\n",
    "import string\n",
    "from sklearn.ensemble import RandomForestClassifier\n",
    "from sklearn.feature_extraction.text import TfidfVectorizer\n",
    "from sklearn.preprocessing import LabelEncoder\n",
    "from sklearn.model_selection import train_test_split\n",
    "from sklearn.naive_bayes import MultinomialNB\n",
    "from sklearn.linear_model import LogisticRegression\n",
    "from sklearn.preprocessing import StandardScaler\n",
    "from sklearn.metrics import classification_report, confusion_matrix\n",
    "from sklearn.model_selection import GridSearchCV\n",
    "from sklearn.feature_extraction.text import CountVectorizer\n",
    "from sklearn.svm import SVC\n",
    "from sklearn.metrics import accuracy_score, classification_report\n",
    "from sklearn.neighbors import KNeighborsClassifier\n",
    "from tensorflow.keras.models import Sequential\n",
    "from tensorflow.keras.layers import Dense, Embedding, Flatten\n",
    "import xgboost as xgb\n",
    "#from wordcloud import WordCloud\n",
    "\n",
    "nltk.download('punkt')\n",
    "nltk.download('stopwords')\n",
    "nltk.download('wordnet')\n",
    "import seaborn as sns\n",
    "\n"
   ]
  },
  {
   "cell_type": "markdown",
   "metadata": {},
   "source": [
    "## Loading Data"
   ]
  },
  {
   "cell_type": "code",
   "execution_count": 3,
   "metadata": {},
   "outputs": [
    {
     "data": {
      "text/html": [
       "<div>\n",
       "<style scoped>\n",
       "    .dataframe tbody tr th:only-of-type {\n",
       "        vertical-align: middle;\n",
       "    }\n",
       "\n",
       "    .dataframe tbody tr th {\n",
       "        vertical-align: top;\n",
       "    }\n",
       "\n",
       "    .dataframe thead th {\n",
       "        text-align: right;\n",
       "    }\n",
       "</style>\n",
       "<table border=\"1\" class=\"dataframe\">\n",
       "  <thead>\n",
       "    <tr style=\"text-align: right;\">\n",
       "      <th></th>\n",
       "      <th>tweet_text</th>\n",
       "      <th>emotion_in_tweet_is_directed_at</th>\n",
       "      <th>is_there_an_emotion_directed_at_a_brand_or_product</th>\n",
       "    </tr>\n",
       "  </thead>\n",
       "  <tbody>\n",
       "    <tr>\n",
       "      <th>0</th>\n",
       "      <td>.@wesley83 I have a 3G iPhone. After 3 hrs twe...</td>\n",
       "      <td>iPhone</td>\n",
       "      <td>Negative emotion</td>\n",
       "    </tr>\n",
       "    <tr>\n",
       "      <th>1</th>\n",
       "      <td>@jessedee Know about @fludapp ? Awesome iPad/i...</td>\n",
       "      <td>iPad or iPhone App</td>\n",
       "      <td>Positive emotion</td>\n",
       "    </tr>\n",
       "    <tr>\n",
       "      <th>2</th>\n",
       "      <td>@swonderlin Can not wait for #iPad 2 also. The...</td>\n",
       "      <td>iPad</td>\n",
       "      <td>Positive emotion</td>\n",
       "    </tr>\n",
       "    <tr>\n",
       "      <th>3</th>\n",
       "      <td>@sxsw I hope this year's festival isn't as cra...</td>\n",
       "      <td>iPad or iPhone App</td>\n",
       "      <td>Negative emotion</td>\n",
       "    </tr>\n",
       "    <tr>\n",
       "      <th>4</th>\n",
       "      <td>@sxtxstate great stuff on Fri #SXSW: Marissa M...</td>\n",
       "      <td>Google</td>\n",
       "      <td>Positive emotion</td>\n",
       "    </tr>\n",
       "  </tbody>\n",
       "</table>\n",
       "</div>"
      ],
      "text/plain": [
       "                                          tweet_text  \\\n",
       "0  .@wesley83 I have a 3G iPhone. After 3 hrs twe...   \n",
       "1  @jessedee Know about @fludapp ? Awesome iPad/i...   \n",
       "2  @swonderlin Can not wait for #iPad 2 also. The...   \n",
       "3  @sxsw I hope this year's festival isn't as cra...   \n",
       "4  @sxtxstate great stuff on Fri #SXSW: Marissa M...   \n",
       "\n",
       "  emotion_in_tweet_is_directed_at  \\\n",
       "0                          iPhone   \n",
       "1              iPad or iPhone App   \n",
       "2                            iPad   \n",
       "3              iPad or iPhone App   \n",
       "4                          Google   \n",
       "\n",
       "  is_there_an_emotion_directed_at_a_brand_or_product  \n",
       "0                                   Negative emotion  \n",
       "1                                   Positive emotion  \n",
       "2                                   Positive emotion  \n",
       "3                                   Negative emotion  \n",
       "4                                   Positive emotion  "
      ]
     },
     "execution_count": 3,
     "metadata": {},
     "output_type": "execute_result"
    }
   ],
   "source": [
    "import pandas as pd\n",
    "data = pd.read_csv('data\\judge-1377884607_tweet_product_company.csv',encoding='ISO-8859-1')\n",
    "data.head()"
   ]
  },
  {
   "cell_type": "markdown",
   "metadata": {},
   "source": [
    "## Data Cleaning"
   ]
  },
  {
   "cell_type": "code",
   "execution_count": 4,
   "metadata": {},
   "outputs": [],
   "source": [
    "#droping the \"emotion in tweet is directed at\" column\n",
    "data = data.drop('emotion_in_tweet_is_directed_at', axis=1)"
   ]
  },
  {
   "cell_type": "code",
   "execution_count": 5,
   "metadata": {},
   "outputs": [
    {
     "data": {
      "text/plain": [
       "tweet_text                                            1\n",
       "is_there_an_emotion_directed_at_a_brand_or_product    0\n",
       "dtype: int64"
      ]
     },
     "execution_count": 5,
     "metadata": {},
     "output_type": "execute_result"
    }
   ],
   "source": [
    "# Checking if our dataset has missing values\n",
    "data.isna().sum()\n",
    "# Dropping the row with missing values"
   ]
  },
  {
   "cell_type": "code",
   "execution_count": 6,
   "metadata": {},
   "outputs": [
    {
     "data": {
      "text/plain": [
       "tweet_text                                            0\n",
       "is_there_an_emotion_directed_at_a_brand_or_product    0\n",
       "dtype: int64"
      ]
     },
     "execution_count": 6,
     "metadata": {},
     "output_type": "execute_result"
    }
   ],
   "source": [
    "# we can not imout text\n",
    "data = data.dropna()\n",
    "#checking if the missing values have been dropped\n",
    "data.isna().sum()\n"
   ]
  },
  {
   "cell_type": "code",
   "execution_count": 7,
   "metadata": {},
   "outputs": [
    {
     "data": {
      "text/plain": [
       "27"
      ]
     },
     "execution_count": 7,
     "metadata": {},
     "output_type": "execute_result"
    }
   ],
   "source": [
    "# Handling duplicates\n",
    "# Check if there are any duplicated values, drop them incase they are there and keep the first value\n",
    "\n",
    "data['tweet_text'].duplicated().sum()"
   ]
  },
  {
   "cell_type": "code",
   "execution_count": 8,
   "metadata": {},
   "outputs": [],
   "source": [
    "#remove duplicates\n",
    "data = data.drop_duplicates(subset='tweet_text', keep='first')"
   ]
  },
  {
   "cell_type": "code",
   "execution_count": 9,
   "metadata": {},
   "outputs": [
    {
     "data": {
      "text/plain": [
       "0"
      ]
     },
     "execution_count": 9,
     "metadata": {},
     "output_type": "execute_result"
    }
   ],
   "source": [
    "#check if the duplicates have been dropped\n",
    "data['tweet_text'].duplicated().sum()\n"
   ]
  },
  {
   "cell_type": "code",
   "execution_count": 10,
   "metadata": {},
   "outputs": [],
   "source": [
    "# Renaming column and 'No emotion toward a brand or product' category\n",
    "# Renaming'is_there_an_emotion_directed_at_a_brand_or_product'column to emotion to make it easy to work with\n",
    "\n",
    "data.rename(columns={'is_there_an_emotion_directed_at_a_brand_or_product': 'emotion'}, inplace=True)"
   ]
  },
  {
   "cell_type": "code",
   "execution_count": 11,
   "metadata": {},
   "outputs": [
    {
     "data": {
      "text/html": [
       "<div>\n",
       "<style scoped>\n",
       "    .dataframe tbody tr th:only-of-type {\n",
       "        vertical-align: middle;\n",
       "    }\n",
       "\n",
       "    .dataframe tbody tr th {\n",
       "        vertical-align: top;\n",
       "    }\n",
       "\n",
       "    .dataframe thead th {\n",
       "        text-align: right;\n",
       "    }\n",
       "</style>\n",
       "<table border=\"1\" class=\"dataframe\">\n",
       "  <thead>\n",
       "    <tr style=\"text-align: right;\">\n",
       "      <th></th>\n",
       "      <th>tweet_text</th>\n",
       "      <th>emotion</th>\n",
       "    </tr>\n",
       "  </thead>\n",
       "  <tbody>\n",
       "    <tr>\n",
       "      <th>0</th>\n",
       "      <td>.@wesley83 I have a 3G iPhone. After 3 hrs twe...</td>\n",
       "      <td>Negative emotion</td>\n",
       "    </tr>\n",
       "    <tr>\n",
       "      <th>1</th>\n",
       "      <td>@jessedee Know about @fludapp ? Awesome iPad/i...</td>\n",
       "      <td>Positive emotion</td>\n",
       "    </tr>\n",
       "    <tr>\n",
       "      <th>2</th>\n",
       "      <td>@swonderlin Can not wait for #iPad 2 also. The...</td>\n",
       "      <td>Positive emotion</td>\n",
       "    </tr>\n",
       "    <tr>\n",
       "      <th>3</th>\n",
       "      <td>@sxsw I hope this year's festival isn't as cra...</td>\n",
       "      <td>Negative emotion</td>\n",
       "    </tr>\n",
       "    <tr>\n",
       "      <th>4</th>\n",
       "      <td>@sxtxstate great stuff on Fri #SXSW: Marissa M...</td>\n",
       "      <td>Positive emotion</td>\n",
       "    </tr>\n",
       "  </tbody>\n",
       "</table>\n",
       "</div>"
      ],
      "text/plain": [
       "                                          tweet_text           emotion\n",
       "0  .@wesley83 I have a 3G iPhone. After 3 hrs twe...  Negative emotion\n",
       "1  @jessedee Know about @fludapp ? Awesome iPad/i...  Positive emotion\n",
       "2  @swonderlin Can not wait for #iPad 2 also. The...  Positive emotion\n",
       "3  @sxsw I hope this year's festival isn't as cra...  Negative emotion\n",
       "4  @sxtxstate great stuff on Fri #SXSW: Marissa M...  Positive emotion"
      ]
     },
     "execution_count": 11,
     "metadata": {},
     "output_type": "execute_result"
    }
   ],
   "source": [
    "# Previewing the first five rows to check if the column has been renamed.\n",
    "data.head()"
   ]
  },
  {
   "cell_type": "code",
   "execution_count": 12,
   "metadata": {},
   "outputs": [],
   "source": [
    "# Renaming 'No emotion toward a brand or product' as neutral for easy analysis\n",
    "data['emotion'] = data['emotion'].replace({'No emotion toward brand or product': 'Neutral'})"
   ]
  },
  {
   "cell_type": "code",
   "execution_count": 13,
   "metadata": {},
   "outputs": [
    {
     "data": {
      "text/plain": [
       "Neutral             5372\n",
       "Positive emotion    2968\n",
       "Negative emotion     569\n",
       "I can't tell         156\n",
       "Name: emotion, dtype: int64"
      ]
     },
     "execution_count": 13,
     "metadata": {},
     "output_type": "execute_result"
    }
   ],
   "source": [
    "# Checking to see if the row has been renamed\n",
    "data.emotion.value_counts()"
   ]
  },
  {
   "cell_type": "markdown",
   "metadata": {},
   "source": [
    "## Exploratory Data Analysis"
   ]
  },
  {
   "cell_type": "code",
   "execution_count": 14,
   "metadata": {},
   "outputs": [
    {
     "data": {
      "text/plain": [
       "<AxesSubplot:ylabel='emotion'>"
      ]
     },
     "execution_count": 14,
     "metadata": {},
     "output_type": "execute_result"
    },
    {
     "data": {
      "image/png": "[encoded data removed]",
      "text/plain": [
       "<Figure size 432x288 with 1 Axes>"
      ]
     },
     "metadata": {},
     "output_type": "display_data"
    }
   ],
   "source": [
    "data[\"emotion\"].value_counts().plot(kind=\"pie\")"
   ]
  },
  {
   "cell_type": "markdown",
   "metadata": {},
   "source": [
    "## Data Preprocessing"
   ]
  },
  {
   "cell_type": "markdown",
   "metadata": {},
   "source": [
    "### *standardizing Case*\n",
    "### Converting the Text Data in to lowercase"
   ]
  },
  {
   "cell_type": "code",
   "execution_count": 15,
   "metadata": {},
   "outputs": [
    {
     "name": "stdout",
     "output_type": "stream",
     "text": [
      ".@wesley83 i have a 3g iphone. after 3 hrs tweeting at #rise_austin, it was dead!  i need to upgrade. plugin stations at #sxsw.\n"
     ]
    }
   ],
   "source": [
    "data[\"cleaned_tweet\"] = data['tweet_text'].str.lower()\n",
    "print (data['cleaned_tweet'][0])\n",
    "\n",
    "#data['tweet_text'] = data['tweet_text'].str.replace('[^\\w\\s]','')"
   ]
  },
  {
   "cell_type": "markdown",
   "metadata": {},
   "source": [
    "### *Removing username From Tweets*\n",
    " ### We use the Regular Expression \"\\b\\@\\w*\\w*\\b\" to take care of all the Twitter usernames in this tweet Text Coulumn. Below is a brief description of the Regex.\n",
    " - \\b: This is a word boundary, meaning it will match the start or end of a word.\n",
    "\n",
    " - \\: This is a literal colon.\n",
    "\n",
    " - \\w*: This is a shorthand character class that matches any word character, which includes letters (both uppercase and lowercase), digits (0-9), and underscores (_).\n",
    "\n",
    " - \\w*: This is another shorthand character class that matches any word character, which includes letters (both uppercase and lowercase), digits (0-9), and underscores (_)."
   ]
  },
  {
   "cell_type": "code",
   "execution_count": 16,
   "metadata": {},
   "outputs": [
    {
     "name": "stdout",
     "output_type": "stream",
     "text": [
      ".@wesley83 i have a 3g iphone. after 3 hrs tweeting at #rise_austin, it was dead!  i need to upgrade. plugin stations at #sxsw.\n"
     ]
    }
   ],
   "source": [
    "\n",
    "data[\"cleaned_tweet\"] = data[\"cleaned_tweet\"].str.replace('\\b\\w*@\\w*\\w*\\b','')\n",
    "print(data[\"cleaned_tweet\"][0])"
   ]
  },
  {
   "cell_type": "markdown",
   "metadata": {},
   "source": [
    "### *Removing Punctuation*\n",
    "### We use the Regular Expression \"[^\\w\\s]\" to take care of all forms of puntuations in this tweet Text Coulumn. below is a brief description of the Regex.\n",
    "\n",
    "1. []: This denotes a character class, which matches any single character that is included within the brackets.\n",
    "\n",
    "2. ^: When placed at the beginning of a character class, the caret ^ negates the character class, meaning it will match any character that is not in the specified set.\n",
    "\n",
    "3. \\w: This is a shorthand character class that matches any word character, which includes letters (both uppercase and lowercase), digits (0-9), and underscores (_).\n",
    "\n",
    "4. \\s: This is another shorthand character class that matches any whitespace character, which includes spaces, tabs, and newlines.\n",
    "\n",
    "Putting it all together, the regex pattern r'[^\\w\\s]' matches any character that is not a word character (like letters, digits, or underscores) and not a whitespace character. In other words, it will match punctuation marks and special symbols."
   ]
  },
  {
   "cell_type": "code",
   "execution_count": 17,
   "metadata": {},
   "outputs": [
    {
     "name": "stdout",
     "output_type": "stream",
     "text": [
      ".@wesley83 I have a 3G iPhone. After 3 hrs tweeting at #RISE_Austin, it was dead!  I need to upgrade. Plugin stations at #SXSW.\n"
     ]
    }
   ],
   "source": [
    "data['tweet_text'] = data['tweet_text'].str.replace('r[^\\w\\s]','')\n",
    "print (data['tweet_text'][0])"
   ]
  },
  {
   "cell_type": "markdown",
   "metadata": {},
   "source": [
    "## Preprocessing seps\n",
    "1. clean text by removing punctuations and special symbols\n",
    "2. remove stop words\n",
    "3. lemmatize words\n",
    "4. tokenize words"
   ]
  },
  {
   "cell_type": "code",
   "execution_count": 38,
   "metadata": {},
   "outputs": [
    {
     "name": "stdout",
     "output_type": "stream",
     "text": [
      "(9065, 9987)\n",
      "['02' '03' '0310' ... 'ûó' 'ûólots' 'ûómention']\n"
     ]
    }
   ],
   "source": [
    "## create a bag  of words\n",
    "\n",
    "from sklearn.feature_extraction.text import CountVectorizer\n",
    "vectorizer = CountVectorizer()\n",
    "X = vectorizer.fit_transform(data['cleaned_tweet'])\n",
    "print(X.shape)\n",
    "print(vectorizer.get_feature_names_out())"
   ]
  },
  {
   "cell_type": "code",
   "execution_count": 48,
   "metadata": {},
   "outputs": [
    {
     "name": "stdout",
     "output_type": "stream",
     "text": [
      "['wesley83', 'i', 'have', 'a', '3g', 'iphone', 'after', '3', 'hrs', 'tweeting', 'at', 'it', 'was', 'dead', 'i', 'need', 'to', 'upgrade', 'plugin', 'stations', 'at']\n"
     ]
    }
   ],
   "source": [
    "# tokenize word innthe entire dataset\n",
    "data['tweet_tokens'] = data['cleaned_tweet'].apply(lambda x: nltk.word_tokenize(x))\n",
    "print(data['tweet_tokens'][0])"
   ]
  },
  {
   "cell_type": "code",
   "execution_count": 49,
   "metadata": {},
   "outputs": [
    {
     "name": "stdout",
     "output_type": "stream",
     "text": [
      "0       wesley83 i have a 3g iphone after 3 hrs tweeti...\n",
      "1       jessedee know about fludapp awesome ipadiphone...\n",
      "2       swonderlin can not wait for 2 also they should...\n",
      "3       sxsw i hope this yeas festival isnt as crashy ...\n",
      "4       sxtxstate great stuff on fri marissa mayer goo...\n",
      "                              ...                        \n",
      "9088                                 ipad everywhere link\n",
      "9089    wave buzz rt mention we interrupt your regular...\n",
      "9090    googles zeige a physician never reported poten...\n",
      "9091    some verizon iphone customers complained their...\n",
      "9092    ïïàü_êîòáââ_â_ûârt mention google tests ûïchec...\n",
      "Name: tweet_tokens, Length: 9065, dtype: object\n"
     ]
    }
   ],
   "source": [
    "def clean_text(text):\n",
    "    # Ensure text is a string\n",
    "    text = str(text)\n",
    "    \n",
    "    # Remove URLs\n",
    "    text = re.sub(r'http\\S+', '', text)\n",
    "    \n",
    "    # Remove hashtags (including the # symbol)\n",
    "    text = re.sub(r'#\\w+', '', text)\n",
    "    \n",
    "    # Remove special characters and punctuation (except spaces)\n",
    "    text = re.sub(r'[^\\w\\s]', '', text)\n",
    "    \n",
    "    # Convert text to lowercase\n",
    "    text = text.lower()\n",
    "    \n",
    "    return text\n",
    "\n",
    "print(data['tweet_tokens'].apply(clean_text))\n"
   ]
  },
  {
   "cell_type": "code",
   "execution_count": 50,
   "metadata": {},
   "outputs": [
    {
     "name": "stdout",
     "output_type": "stream",
     "text": [
      "0       [wesley83, 3g, iphone, 3, hrs, tweeting, dead,...\n",
      "1       [jessedee, know, fludapp, awesome, ipadiphone,...\n",
      "2                       [swonderlin, wait, 2, also, sale]\n",
      "3       [sxsw, hope, yeas, festival, isnt, crashy, yea...\n",
      "4       [sxtxstate, great, stuff, fri, marissa, mayer,...\n",
      "                              ...                        \n",
      "9088                             [ipad, everywhere, link]\n",
      "9089    [wave, buzz, rt, mention, interrupt, regularly...\n",
      "9090    [googles, zeige, physician, never, reported, p...\n",
      "9091    [verizon, iphone, customers, complained, time,...\n",
      "9092    [ïïàü_êîòáââ_â_ûârt, mention, google, tests, û...\n",
      "Name: tweet_tokens, Length: 9065, dtype: object\n"
     ]
    }
   ],
   "source": [
    "def remove_stopwords(tokens):\n",
    "    stop_words = set(stopwords.words('english'))\n",
    "    filtered_tokens = [word for word in tokens if word not in stop_words]\n",
    "    return filtered_tokens\n",
    "print(data['tweet_tokens'].apply(remove_stopwords))"
   ]
  },
  {
   "cell_type": "code",
   "execution_count": 51,
   "metadata": {},
   "outputs": [
    {
     "name": "stdout",
     "output_type": "stream",
     "text": [
      "0       [wesley83, i, have, a, 3g, iphone, after, 3, h...\n",
      "1       [jessedee, know, about, fludapp, awesome, ipad...\n",
      "2       [swonderlin, can, not, wait, for, 2, also, the...\n",
      "3       [sxsw, i, hope, this, yea, festival, isnt, a, ...\n",
      "4       [sxtxstate, great, stuff, on, fri, marissa, ma...\n",
      "                              ...                        \n",
      "9088                             [ipad, everywhere, link]\n",
      "9089    [wave, buzz, rt, mention, we, interrupt, your,...\n",
      "9090    [google, zeige, a, physician, never, reported,...\n",
      "9091    [some, verizon, iphone, customer, complained, ...\n",
      "9092    [ïïàü_êîòáââ_â_ûârt, mention, google, test, ûï...\n",
      "Name: tweet_tokens, Length: 9065, dtype: object\n"
     ]
    }
   ],
   "source": [
    "def lemmatize_text(tokens):\n",
    "    lemmatizer = WordNetLemmatizer()\n",
    "    lemmatized_tokens = [lemmatizer.lemmatize(word) for word in tokens]\n",
    "    return lemmatized_tokens\n",
    "print(data['tweet_tokens'].apply(lemmatize_text))"
   ]
  },
  {
   "cell_type": "code",
   "execution_count": 63,
   "metadata": {},
   "outputs": [
    {
     "name": "stdout",
     "output_type": "stream",
     "text": [
      "wesley83 3g iphone 3 hr tweeting dead need upgrade plugin station\n"
     ]
    }
   ],
   "source": [
    "def processed_text(text):\n",
    "    text = clean_text(text)\n",
    "    tokens = word_tokenize(text)\n",
    "    tokens = remove_stopwords(tokens)\n",
    "    tokens = lemmatize_text(tokens)\n",
    "    return ' '.join(tokens)\n",
    "data['cleaned_tweet_tokens'] = data['tweet_text'].apply(processed_text)\n",
    "print(data['cleaned_tweet_tokens'][0])\n"
   ]
  },
  {
   "cell_type": "code",
   "execution_count": 64,
   "metadata": {},
   "outputs": [
    {
     "name": "stdout",
     "output_type": "stream",
     "text": [
      "                                          tweet_text           emotion  \\\n",
      "0  .@wesley83 I have a 3G iPhone. After 3 hrs twe...  Negative emotion   \n",
      "1  @jessedee Know about @fludapp ? Awesome iPad/i...  Positive emotion   \n",
      "2  @swonderlin Can not wait for #iPad 2 also. The...  Positive emotion   \n",
      "3  @sxsw I hope this yeas festival isn't as crash...  Negative emotion   \n",
      "4  @sxtxstate great stuff on Fri #SXSW: Marissa M...  Positive emotion   \n",
      "\n",
      "                                       cleaned_tweet  \\\n",
      "0  wesley83 i have a 3g iphone after 3 hrs tweeti...   \n",
      "1  jessedee know about fludapp  awesome ipadiphon...   \n",
      "2  swonderlin can not wait for  2 also they shoul...   \n",
      "3  sxsw i hope this yeas festival isnt as crashy ...   \n",
      "4  sxtxstate great stuff on fri  marissa mayer go...   \n",
      "\n",
      "                                     tokenized_tweet  \\\n",
      "0  [wesley83, i, have, a, 3g, iphone, after, 3, h...   \n",
      "1  [jessedee, know, about, fludapp, awesome, ipad...   \n",
      "2  [swonderlin, can, not, wait, for, 2, also, the...   \n",
      "3  [sxsw, i, hope, this, yeas, festival, isnt, as...   \n",
      "4  [sxtxstate, great, stuff, on, fri, marissa, ma...   \n",
      "\n",
      "                                    lemmatized_tweet  \\\n",
      "0  wesley83 i have a 3g iphone after 3 hr tweetin...   \n",
      "1  jessedee know about fludapp awesome ipadiphone...   \n",
      "2  swonderlin can not wait for 2 also they should...   \n",
      "3  sxsw i hope this yea festival isnt a crashy a ...   \n",
      "4  sxtxstate great stuff on fri marissa mayer goo...   \n",
      "\n",
      "                                cleaned_tweet_tokens  \\\n",
      "0  wesley83 3g iphone 3 hr tweeting dead need upg...   \n",
      "1  jessedee know fludapp awesome ipadiphone app y...   \n",
      "2                        swonderlin wait 2 also sale   \n",
      "3  sxsw hope yea festival isnt crashy yea iphone app   \n",
      "4  sxtxstate great stuff fri marissa mayer google...   \n",
      "\n",
      "                                        tweet_tokens  \n",
      "0  [wesley83, i, have, a, 3g, iphone, after, 3, h...  \n",
      "1  [jessedee, know, about, fludapp, awesome, ipad...  \n",
      "2  [swonderlin, can, not, wait, for, 2, also, the...  \n",
      "3  [sxsw, i, hope, this, yeas, festival, isnt, as...  \n",
      "4  [sxtxstate, great, stuff, on, fri, marissa, ma...  \n"
     ]
    }
   ],
   "source": [
    "print(data.head())"
   ]
  },
  {
   "cell_type": "code",
   "execution_count": 70,
   "metadata": {},
   "outputs": [
    {
     "name": "stdout",
     "output_type": "stream",
     "text": [
      "                                cleaned_tweet_tokens           emotion\n",
      "0  wesley83 3g iphone 3 hr tweeting dead need upg...  Negative emotion\n",
      "1  jessedee know fludapp awesome ipadiphone app y...  Positive emotion\n",
      "2                        swonderlin wait 2 also sale  Positive emotion\n",
      "3  sxsw hope yea festival isnt crashy yea iphone app  Negative emotion\n",
      "4  sxtxstate great stuff fri marissa mayer google...  Positive emotion\n"
     ]
    }
   ],
   "source": [
    "#retain only the columns that we need, the cleaned tweet tokens and the emotion\n",
    "\n",
    "data_processed = data[['cleaned_tweet_tokens', 'emotion']]\n",
    "print(data_processed.head())"
   ]
  },
  {
   "cell_type": "code",
   "execution_count": 72,
   "metadata": {},
   "outputs": [
    {
     "name": "stdout",
     "output_type": "stream",
     "text": [
      "(5439, 2)\n",
      "(3626, 2)\n"
     ]
    }
   ],
   "source": [
    "#testtrain split\n",
    "train, test = train_test_split(data_processed, test_size=0.4, random_state=42)\n",
    "print(train.shape)\n",
    "print(test.shape)"
   ]
  },
  {
   "cell_type": "code",
   "execution_count": 73,
   "metadata": {},
   "outputs": [],
   "source": [
    "#appliying the tfidf vectorizer\n",
    "vectorizer = TfidfVectorizer()\n",
    "X_train_tfidf = vectorizer.fit_transform(train['cleaned_tweet_tokens'])\n",
    "y_train = train['emotion']\n",
    "X_test_tfidf = vectorizer.transform(test['cleaned_tweet_tokens'])\n",
    "y_test = test['emotion']\n",
    "\n"
   ]
  },
  {
   "cell_type": "code",
   "execution_count": 74,
   "metadata": {},
   "outputs": [
    {
     "data": {
      "text/html": [
       "<style>#sk-container-id-1 {color: black;}#sk-container-id-1 pre{padding: 0;}#sk-container-id-1 div.sk-toggleable {background-color: white;}#sk-container-id-1 label.sk-toggleable__label {cursor: pointer;display: block;width: 100%;margin-bottom: 0;padding: 0.3em;box-sizing: border-box;text-align: center;}#sk-container-id-1 label.sk-toggleable__label-arrow:before {content: \"▸\";float: left;margin-right: 0.25em;color: #696969;}#sk-container-id-1 label.sk-toggleable__label-arrow:hover:before {color: black;}#sk-container-id-1 div.sk-estimator:hover label.sk-toggleable__label-arrow:before {color: black;}#sk-container-id-1 div.sk-toggleable__content {max-height: 0;max-width: 0;overflow: hidden;text-align: left;background-color: #f0f8ff;}#sk-container-id-1 div.sk-toggleable__content pre {margin: 0.2em;color: black;border-radius: 0.25em;background-color: #f0f8ff;}#sk-container-id-1 input.sk-toggleable__control:checked~div.sk-toggleable__content {max-height: 200px;max-width: 100%;overflow: auto;}#sk-container-id-1 input.sk-toggleable__control:checked~label.sk-toggleable__label-arrow:before {content: \"▾\";}#sk-container-id-1 div.sk-estimator input.sk-toggleable__control:checked~label.sk-toggleable__label {background-color: #d4ebff;}#sk-container-id-1 div.sk-label input.sk-toggleable__control:checked~label.sk-toggleable__label {background-color: #d4ebff;}#sk-container-id-1 input.sk-hidden--visually {border: 0;clip: rect(1px 1px 1px 1px);clip: rect(1px, 1px, 1px, 1px);height: 1px;margin: -1px;overflow: hidden;padding: 0;position: absolute;width: 1px;}#sk-container-id-1 div.sk-estimator {font-family: monospace;background-color: #f0f8ff;border: 1px dotted black;border-radius: 0.25em;box-sizing: border-box;margin-bottom: 0.5em;}#sk-container-id-1 div.sk-estimator:hover {background-color: #d4ebff;}#sk-container-id-1 div.sk-parallel-item::after {content: \"\";width: 100%;border-bottom: 1px solid gray;flex-grow: 1;}#sk-container-id-1 div.sk-label:hover label.sk-toggleable__label {background-color: #d4ebff;}#sk-container-id-1 div.sk-serial::before {content: \"\";position: absolute;border-left: 1px solid gray;box-sizing: border-box;top: 0;bottom: 0;left: 50%;z-index: 0;}#sk-container-id-1 div.sk-serial {display: flex;flex-direction: column;align-items: center;background-color: white;padding-right: 0.2em;padding-left: 0.2em;position: relative;}#sk-container-id-1 div.sk-item {position: relative;z-index: 1;}#sk-container-id-1 div.sk-parallel {display: flex;align-items: stretch;justify-content: center;background-color: white;position: relative;}#sk-container-id-1 div.sk-item::before, #sk-container-id-1 div.sk-parallel-item::before {content: \"\";position: absolute;border-left: 1px solid gray;box-sizing: border-box;top: 0;bottom: 0;left: 50%;z-index: -1;}#sk-container-id-1 div.sk-parallel-item {display: flex;flex-direction: column;z-index: 1;position: relative;background-color: white;}#sk-container-id-1 div.sk-parallel-item:first-child::after {align-self: flex-end;width: 50%;}#sk-container-id-1 div.sk-parallel-item:last-child::after {align-self: flex-start;width: 50%;}#sk-container-id-1 div.sk-parallel-item:only-child::after {width: 0;}#sk-container-id-1 div.sk-dashed-wrapped {border: 1px dashed gray;margin: 0 0.4em 0.5em 0.4em;box-sizing: border-box;padding-bottom: 0.4em;background-color: white;}#sk-container-id-1 div.sk-label label {font-family: monospace;font-weight: bold;display: inline-block;line-height: 1.2em;}#sk-container-id-1 div.sk-label-container {text-align: center;}#sk-container-id-1 div.sk-container {/* jupyter's `normalize.less` sets `[hidden] { display: none; }` but bootstrap.min.css set `[hidden] { display: none !important; }` so we also need the `!important` here to be able to override the default hidden behavior on the sphinx rendered scikit-learn.org. See: https://github.com/scikit-learn/scikit-learn/issues/21755 */display: inline-block !important;position: relative;}#sk-container-id-1 div.sk-text-repr-fallback {display: none;}</style><div id=\"sk-container-id-1\" class=\"sk-top-container\"><div class=\"sk-text-repr-fallback\"><pre>MultinomialNB()</pre><b>In a Jupyter environment, please rerun this cell to show the HTML representation or trust the notebook. <br />On GitHub, the HTML representation is unable to render, please try loading this page with nbviewer.org.</b></div><div class=\"sk-container\" hidden><div class=\"sk-item\"><div class=\"sk-estimator sk-toggleable\"><input class=\"sk-toggleable__control sk-hidden--visually\" id=\"sk-estimator-id-1\" type=\"checkbox\" checked><label for=\"sk-estimator-id-1\" class=\"sk-toggleable__label sk-toggleable__label-arrow\">MultinomialNB</label><div class=\"sk-toggleable__content\"><pre>MultinomialNB()</pre></div></div></div></div></div>"
      ],
      "text/plain": [
       "MultinomialNB()"
      ]
     },
     "execution_count": 74,
     "metadata": {},
     "output_type": "execute_result"
    }
   ],
   "source": [
    "#fitting the model\n",
    "classifier = MultinomialNB()\n",
    "classifier.fit(X_train_tfidf, y_train)\n"
   ]
  },
  {
   "cell_type": "code",
   "execution_count": 75,
   "metadata": {},
   "outputs": [
    {
     "name": "stdout",
     "output_type": "stream",
     "text": [
      "                  precision    recall  f1-score   support\n",
      "\n",
      "    I can't tell       0.00      0.00      0.00        51\n",
      "Negative emotion       0.75      0.01      0.03       232\n",
      "         Neutral       0.65      0.95      0.77      2198\n",
      "Positive emotion       0.67      0.23      0.35      1145\n",
      "\n",
      "        accuracy                           0.65      3626\n",
      "       macro avg       0.52      0.30      0.29      3626\n",
      "    weighted avg       0.66      0.65      0.58      3626\n",
      "\n"
     ]
    },
    {
     "name": "stderr",
     "output_type": "stream",
     "text": [
      "c:\\Users\\Ruth Kioko\\anaconda3\\envs\\learn-env\\lib\\site-packages\\sklearn\\metrics\\_classification.py:1471: UndefinedMetricWarning: Precision and F-score are ill-defined and being set to 0.0 in labels with no predicted samples. Use `zero_division` parameter to control this behavior.\n",
      "  _warn_prf(average, modifier, msg_start, len(result))\n",
      "c:\\Users\\Ruth Kioko\\anaconda3\\envs\\learn-env\\lib\\site-packages\\sklearn\\metrics\\_classification.py:1471: UndefinedMetricWarning: Precision and F-score are ill-defined and being set to 0.0 in labels with no predicted samples. Use `zero_division` parameter to control this behavior.\n",
      "  _warn_prf(average, modifier, msg_start, len(result))\n",
      "c:\\Users\\Ruth Kioko\\anaconda3\\envs\\learn-env\\lib\\site-packages\\sklearn\\metrics\\_classification.py:1471: UndefinedMetricWarning: Precision and F-score are ill-defined and being set to 0.0 in labels with no predicted samples. Use `zero_division` parameter to control this behavior.\n",
      "  _warn_prf(average, modifier, msg_start, len(result))\n"
     ]
    }
   ],
   "source": [
    "#prediction\n",
    "y_pred = classifier.predict(X_test_tfidf)\n",
    "print(classification_report(y_test, y_pred))"
   ]
  },
  {
   "cell_type": "code",
   "execution_count": 76,
   "metadata": {},
   "outputs": [
    {
     "name": "stdout",
     "output_type": "stream",
     "text": [
      "Accuracy (Naive Bayes): 0.6530612244897959\n"
     ]
    }
   ],
   "source": [
    "#evaluation metrics\n",
    "accuracy = accuracy_score(y_test, y_pred)\n",
    "print(\"Accuracy (Naive Bayes):\", accuracy)"
   ]
  }
 ],
 "metadata": {
  "kernelspec": {
   "display_name": "learn-env",
   "language": "python",
   "name": "python3"
  },
  "language_info": {
   "codemirror_mode": {
    "name": "ipython",
    "version": 3
   },
   "file_extension": ".py",
   "mimetype": "text/x-python",
   "name": "python",
   "nbconvert_exporter": "python",
   "pygments_lexer": "ipython3",
   "version": "3.8.5"
  }
 },
 "nbformat": 4,
 "nbformat_minor": 2
}
