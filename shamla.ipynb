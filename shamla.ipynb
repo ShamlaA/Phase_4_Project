{
 "cells": [
  {
   "cell_type": "markdown",
   "metadata": {},
   "source": [
    "## Sentiment Analysis with NLP\n",
    "\n",
    "### Overview\n",
    "\n",
    "Apple and Google are two leading technology companies with a vast presence in the consumer electronics and software markets. Both companies recently launched new products: Apple introduced the iPhone 15, while Google unveiled the Pixel 8. To understand consumer perceptions and brand positioning, both companies want to conduct sentiment analysis on social media to gauge public reactions to these launches.\n",
    "\n",
    "### Objectives:\n",
    "\n",
    "1. Develop a specialized sentiment analysis model to evaluate Twitter sentiments regarding Apple and Google products.\n",
    "2. Identify specific emotions associated with each brand’s products.\n",
    "3. Analyze customer feedback to inform future product development and marketing strategies.\n",
    "\n",
    "## NLP Procedures\n",
    "**1. Data Collection:**\n",
    "Use Twitter's API to gather tweets mentioning \"iPhone 15,\" \"Pixel 8,\" \"Apple,\" and \"Google,\" as well as relevant hashtags like #iPhone15 and #Pixel8.\n",
    "\n",
    "Focus on tweets from the product launch period and a few weeks following to capture initial reactions.\n",
    "\n",
    "**2. Preprocessing:**\n",
    "\n",
    ". Text Cleaning: Remove URLs, mentions (@username), hashtags, and special characters from the tweet text.\n",
    "\n",
    ". Tokenization: Split the cleaned text into individual words or tokens.\n",
    "\n",
    ". Lowercasing: Convert all tokens to lowercase to maintain uniformity.\n",
    "\n",
    ". Stopword Removal: Remove common stopwords (e.g., \"and,\" \"the,\" \"is\") that do not contribute to sentiment.\n",
    "\n",
    "**3. Sentiment Analysis:**\n",
    "\n",
    ". Use a pre-trained sentiment analysis model (like VADER or a fine-tuned BERT model) to classify each tweet as positive, negative, or neutral.\n",
    "\n",
    ". Extract and categorize the emotions (e.g., joy, anger, surprise) expressed in tweets using an emotion detection model.\n",
    "\n",
    "**4. Feature Extraction:**\n",
    "\n",
    ". Use techniques like TF-IDF or word embeddings (e.g., Word2Vec or GloVe) to represent tweet text as numerical features for further analysis.\n",
    "\n",
    "**5. Analysis:**\n",
    "\n",
    ". Aggregate Sentiment Scores: Calculate the overall sentiment score and categorize tweets by positive, negative, and neutral sentiment.\n",
    "\n",
    ". Emotion Analysis: Identify and compare the frequency of emotions associated with each brand, such as joy for Apple and trust for Google.\n",
    "\n",
    "**6. Visualization:**\n",
    "\n",
    ". Create visual representations (like bar charts or word clouds) to illustrate overall sentiment, emotion distribution, and trends over time.\n",
    "\n",
    "**7. Reporting:**\n",
    "\n",
    ". Prepare a report summarizing findings, including key sentiments, emotional trends, and actionable insights for the marketing team. Recommendations could include addressing negative sentiment themes or amplifying positive feedback in future campaigns.\n",
    "\n",
    ". Through this sentiment analysis, EcoTech can gain valuable insights into customer perceptions of their new product line, allowing them to make informed decisions to enhance their marketing strategy and improve overall brand reputation."
   ]
  },
  {
   "cell_type": "markdown",
   "metadata": {},
   "source": [
    "### Task\n",
    "Build a model that can rate the sentiment of a Tweet based on its content."
   ]
  },
  {
   "cell_type": "markdown",
   "metadata": {},
   "source": [
    "## DATA UNDERSTANDING\n",
    "Let us first import all the relevant modules and load the dataset."
   ]
  },
  {
   "cell_type": "code",
   "execution_count": 357,
   "metadata": {},
   "outputs": [],
   "source": [
    "# Importing th relevant libraries and modules\n",
    "import numpy as np\n",
    "import pandas as pd\n",
    "import matplotlib.pyplot as plt\n",
    "import seaborn as sns\n",
    "%matplotlib inline\n",
    "sns.set_style('darkgrid')\n",
    "import os"
   ]
  },
  {
   "cell_type": "code",
   "execution_count": 358,
   "metadata": {},
   "outputs": [],
   "source": [
    "import re\n",
    "import nltk\n",
    "import string\n",
    "from nltk import FreqDist\n",
    "from nltk.tokenize import sent_tokenize, word_tokenize\n",
    "from nltk.corpus import stopwords\n",
    "\n",
    "# import spacy\n",
    "# # nlp = spacy.load(\"en_core_web_sm\")\n",
    "\n",
    "from nltk.stem.snowball import SnowballStemmer\n",
    "from nltk.stem.wordnet import WordNetLemmatizer\n",
    "\n",
    "from sklearn.model_selection import train_test_split\n",
    "from sklearn.feature_extraction.text import TfidfVectorizer, TfidfTransformer, CountVectorizer\n",
    "from sklearn.ensemble import RandomForestClassifier\n",
    "from sklearn.naive_bayes import MultinomialNB\n",
    "from sklearn.metrics import confusion_matrix, classification_report,accuracy_score"
   ]
  },
  {
   "cell_type": "code",
   "execution_count": 359,
   "metadata": {},
   "outputs": [],
   "source": [
    "import tensorflow as tf\n",
    "from tensorflow import keras\n",
    "from tensorflow.keras import layers, models, Sequential\n",
    "from tensorflow.keras.preprocessing.text import Tokenizer\n",
    "from tensorflow.keras.preprocessing.sequence import pad_sequences\n",
    "from tensorflow.keras.losses import CategoricalCrossentropy\n",
    "from tensorflow.keras.optimizers import Adam\n",
    "from tensorflow.keras.callbacks import EarlyStopping, ModelCheckpoint\n",
    "from tqdm import tqdm"
   ]
  },
  {
   "cell_type": "code",
   "execution_count": 360,
   "metadata": {},
   "outputs": [],
   "source": [
    "# Check GPU status\n",
    "# if tf.test.gpu_device_name(): \n",
    "#     print('Default GPU Device: {}'.format(tf.test.gpu_device_name()))\n",
    "# else:\n",
    "#     print(\"Please install GPU version of TF\")"
   ]
  },
  {
   "cell_type": "code",
   "execution_count": 361,
   "metadata": {},
   "outputs": [
    {
     "name": "stderr",
     "output_type": "stream",
     "text": [
      "[nltk_data] Downloading package stopwords to\n",
      "[nltk_data]     /Users/madservices/nltk_data...\n",
      "[nltk_data]   Package stopwords is already up-to-date!\n",
      "[nltk_data] Downloading package punkt to\n",
      "[nltk_data]     /Users/madservices/nltk_data...\n",
      "[nltk_data]   Package punkt is already up-to-date!\n",
      "[nltk_data] Downloading package wordnet to\n",
      "[nltk_data]     /Users/madservices/nltk_data...\n",
      "[nltk_data]   Package wordnet is already up-to-date!\n"
     ]
    },
    {
     "data": {
      "text/plain": [
       "True"
      ]
     },
     "execution_count": 361,
     "metadata": {},
     "output_type": "execute_result"
    }
   ],
   "source": [
    "# Downloading nltk metrics\n",
    "nltk.download('stopwords')\n",
    "nltk.download('punkt')\n",
    "nltk.download('wordnet')"
   ]
  },
  {
   "cell_type": "markdown",
   "metadata": {},
   "source": [
    "## Load the Data"
   ]
  },
  {
   "cell_type": "code",
   "execution_count": 362,
   "metadata": {},
   "outputs": [
    {
     "data": {
      "text/html": [
       "<div>\n",
       "<style scoped>\n",
       "    .dataframe tbody tr th:only-of-type {\n",
       "        vertical-align: middle;\n",
       "    }\n",
       "\n",
       "    .dataframe tbody tr th {\n",
       "        vertical-align: top;\n",
       "    }\n",
       "\n",
       "    .dataframe thead th {\n",
       "        text-align: right;\n",
       "    }\n",
       "</style>\n",
       "<table border=\"1\" class=\"dataframe\">\n",
       "  <thead>\n",
       "    <tr style=\"text-align: right;\">\n",
       "      <th></th>\n",
       "      <th>tweet_text</th>\n",
       "      <th>emotion_in_tweet_is_directed_at</th>\n",
       "      <th>is_there_an_emotion_directed_at_a_brand_or_product</th>\n",
       "    </tr>\n",
       "  </thead>\n",
       "  <tbody>\n",
       "    <tr>\n",
       "      <th>0</th>\n",
       "      <td>.@wesley83 I have a 3G iPhone. After 3 hrs twe...</td>\n",
       "      <td>iPhone</td>\n",
       "      <td>Negative emotion</td>\n",
       "    </tr>\n",
       "    <tr>\n",
       "      <th>1</th>\n",
       "      <td>@jessedee Know about @fludapp ? Awesome iPad/i...</td>\n",
       "      <td>iPad or iPhone App</td>\n",
       "      <td>Positive emotion</td>\n",
       "    </tr>\n",
       "    <tr>\n",
       "      <th>2</th>\n",
       "      <td>@swonderlin Can not wait for #iPad 2 also. The...</td>\n",
       "      <td>iPad</td>\n",
       "      <td>Positive emotion</td>\n",
       "    </tr>\n",
       "    <tr>\n",
       "      <th>3</th>\n",
       "      <td>@sxsw I hope this year's festival isn't as cra...</td>\n",
       "      <td>iPad or iPhone App</td>\n",
       "      <td>Negative emotion</td>\n",
       "    </tr>\n",
       "    <tr>\n",
       "      <th>4</th>\n",
       "      <td>@sxtxstate great stuff on Fri #SXSW: Marissa M...</td>\n",
       "      <td>Google</td>\n",
       "      <td>Positive emotion</td>\n",
       "    </tr>\n",
       "  </tbody>\n",
       "</table>\n",
       "</div>"
      ],
      "text/plain": [
       "                                          tweet_text  \\\n",
       "0  .@wesley83 I have a 3G iPhone. After 3 hrs twe...   \n",
       "1  @jessedee Know about @fludapp ? Awesome iPad/i...   \n",
       "2  @swonderlin Can not wait for #iPad 2 also. The...   \n",
       "3  @sxsw I hope this year's festival isn't as cra...   \n",
       "4  @sxtxstate great stuff on Fri #SXSW: Marissa M...   \n",
       "\n",
       "  emotion_in_tweet_is_directed_at  \\\n",
       "0                          iPhone   \n",
       "1              iPad or iPhone App   \n",
       "2                            iPad   \n",
       "3              iPad or iPhone App   \n",
       "4                          Google   \n",
       "\n",
       "  is_there_an_emotion_directed_at_a_brand_or_product  \n",
       "0                                   Negative emotion  \n",
       "1                                   Positive emotion  \n",
       "2                                   Positive emotion  \n",
       "3                                   Negative emotion  \n",
       "4                                   Positive emotion  "
      ]
     },
     "execution_count": 362,
     "metadata": {},
     "output_type": "execute_result"
    }
   ],
   "source": [
    "# Loading the dataset\n",
    "df = pd.read_csv(\"data/judge-1377884607_tweet_product_company.csv\", encoding='unicode_escape')\n",
    "\n",
    "# Checking the dataset\n",
    "df.head()\n",
    "# print()\n",
    "# print(df.describe())"
   ]
  },
  {
   "cell_type": "code",
   "execution_count": 363,
   "metadata": {},
   "outputs": [
    {
     "name": "stdout",
     "output_type": "stream",
     "text": [
      "<class 'pandas.core.frame.DataFrame'>\n",
      "RangeIndex: 9093 entries, 0 to 9092\n",
      "Data columns (total 3 columns):\n",
      " #   Column                                              Non-Null Count  Dtype \n",
      "---  ------                                              --------------  ----- \n",
      " 0   tweet_text                                          9092 non-null   object\n",
      " 1   emotion_in_tweet_is_directed_at                     3291 non-null   object\n",
      " 2   is_there_an_emotion_directed_at_a_brand_or_product  9093 non-null   object\n",
      "dtypes: object(3)\n",
      "memory usage: 213.2+ KB\n"
     ]
    }
   ],
   "source": [
    "df.info()"
   ]
  },
  {
   "cell_type": "markdown",
   "metadata": {},
   "source": [
    "The dataset for this project, sourced from https://data.world/crowdflower/brands-and-product-emotions is well-suited for our objectives. This rich resource, which comprises of three columns and 9,093 rows, is ideal for training and testing our sentiment analysis models, effectively capturing real-world sentiment from a platform where users openly share their opinions.\n",
    "\n",
    "### Column Description\n",
    "*  tweet_text: The text of the tweets.\n",
    "*  emotion_in_tweet_is_directed_at: Insights into the emotions expressed.\n",
    "*  is_there_an_emotion_directed_at_a_brand_or_product: Indicates the specific brand or product related to the emotion.\n",
    "\n",
    "With its sizable sample, the dataset provides ample data for model training and validation. The features have been carefully selected for their relevance, particularly focusing on the tweet text and the emotions associated with brands or products, which are crucial for understanding sentiment dynamics.\n",
    "\n",
    "However, the dataset does have limitations. Interpreting tweet sentiment can be complex due to contextual factors and sarcasm. Additionally, it may not fully represent all sentiments expressed on Twitter, potentially impacting the comprehensiveness of our analysis."
   ]
  },
  {
   "cell_type": "markdown",
   "metadata": {},
   "source": [
    "## DATA CLEANING\n",
    "Ok first let us rename the columns and check if there are any missing, null, or duplicate values in our dataset."
   ]
  },
  {
   "cell_type": "code",
   "execution_count": 364,
   "metadata": {},
   "outputs": [],
   "source": [
    "# Renaming the columns for ease of access\n",
    "df.rename(columns={\n",
    "    'tweet_text': 'Tweet',\n",
    "    'emotion_in_tweet_is_directed_at': 'Product',\n",
    "    'is_there_an_emotion_directed_at_a_brand_or_product': 'Sentiment'\n",
    "}, inplace=True)"
   ]
  },
  {
   "cell_type": "code",
   "execution_count": 365,
   "metadata": {},
   "outputs": [
    {
     "data": {
      "text/html": [
       "<div>\n",
       "<style scoped>\n",
       "    .dataframe tbody tr th:only-of-type {\n",
       "        vertical-align: middle;\n",
       "    }\n",
       "\n",
       "    .dataframe tbody tr th {\n",
       "        vertical-align: top;\n",
       "    }\n",
       "\n",
       "    .dataframe thead th {\n",
       "        text-align: right;\n",
       "    }\n",
       "</style>\n",
       "<table border=\"1\" class=\"dataframe\">\n",
       "  <thead>\n",
       "    <tr style=\"text-align: right;\">\n",
       "      <th></th>\n",
       "      <th>Tweet</th>\n",
       "      <th>Product</th>\n",
       "      <th>Sentiment</th>\n",
       "    </tr>\n",
       "  </thead>\n",
       "  <tbody>\n",
       "    <tr>\n",
       "      <th>0</th>\n",
       "      <td>.@wesley83 I have a 3G iPhone. After 3 hrs twe...</td>\n",
       "      <td>iPhone</td>\n",
       "      <td>Negative emotion</td>\n",
       "    </tr>\n",
       "    <tr>\n",
       "      <th>1</th>\n",
       "      <td>@jessedee Know about @fludapp ? Awesome iPad/i...</td>\n",
       "      <td>iPad or iPhone App</td>\n",
       "      <td>Positive emotion</td>\n",
       "    </tr>\n",
       "    <tr>\n",
       "      <th>2</th>\n",
       "      <td>@swonderlin Can not wait for #iPad 2 also. The...</td>\n",
       "      <td>iPad</td>\n",
       "      <td>Positive emotion</td>\n",
       "    </tr>\n",
       "    <tr>\n",
       "      <th>3</th>\n",
       "      <td>@sxsw I hope this year's festival isn't as cra...</td>\n",
       "      <td>iPad or iPhone App</td>\n",
       "      <td>Negative emotion</td>\n",
       "    </tr>\n",
       "    <tr>\n",
       "      <th>4</th>\n",
       "      <td>@sxtxstate great stuff on Fri #SXSW: Marissa M...</td>\n",
       "      <td>Google</td>\n",
       "      <td>Positive emotion</td>\n",
       "    </tr>\n",
       "  </tbody>\n",
       "</table>\n",
       "</div>"
      ],
      "text/plain": [
       "                                               Tweet             Product  \\\n",
       "0  .@wesley83 I have a 3G iPhone. After 3 hrs twe...              iPhone   \n",
       "1  @jessedee Know about @fludapp ? Awesome iPad/i...  iPad or iPhone App   \n",
       "2  @swonderlin Can not wait for #iPad 2 also. The...                iPad   \n",
       "3  @sxsw I hope this year's festival isn't as cra...  iPad or iPhone App   \n",
       "4  @sxtxstate great stuff on Fri #SXSW: Marissa M...              Google   \n",
       "\n",
       "          Sentiment  \n",
       "0  Negative emotion  \n",
       "1  Positive emotion  \n",
       "2  Positive emotion  \n",
       "3  Negative emotion  \n",
       "4  Positive emotion  "
      ]
     },
     "execution_count": 365,
     "metadata": {},
     "output_type": "execute_result"
    }
   ],
   "source": [
    "# Checking the data\n",
    "df.head()"
   ]
  },
  {
   "cell_type": "code",
   "execution_count": 366,
   "metadata": {},
   "outputs": [
    {
     "name": "stdout",
     "output_type": "stream",
     "text": [
      "<class 'pandas.core.frame.DataFrame'>\n",
      "RangeIndex: 9093 entries, 0 to 9092\n",
      "Data columns (total 3 columns):\n",
      " #   Column     Non-Null Count  Dtype \n",
      "---  ------     --------------  ----- \n",
      " 0   Tweet      9092 non-null   object\n",
      " 1   Product    3291 non-null   object\n",
      " 2   Sentiment  9093 non-null   object\n",
      "dtypes: object(3)\n",
      "memory usage: 213.2+ KB\n"
     ]
    }
   ],
   "source": [
    "df.info()"
   ]
  },
  {
   "cell_type": "markdown",
   "metadata": {},
   "source": [
    "Obviously as we can see it, we have a single missing value in the Tweet column and more than 5k values missing from the Product column. Since the product column is very crucial to our analysis we will fill the missing values with placeholder values while dropping the single missing row from the Tweet column.\n"
   ]
  },
  {
   "cell_type": "code",
   "execution_count": 367,
   "metadata": {},
   "outputs": [
    {
     "name": "stdout",
     "output_type": "stream",
     "text": [
      "<class 'pandas.core.frame.DataFrame'>\n",
      "Index: 9092 entries, 0 to 9092\n",
      "Data columns (total 3 columns):\n",
      " #   Column     Non-Null Count  Dtype \n",
      "---  ------     --------------  ----- \n",
      " 0   Tweet      9092 non-null   object\n",
      " 1   Product    9092 non-null   object\n",
      " 2   Sentiment  9092 non-null   object\n",
      "dtypes: object(3)\n",
      "memory usage: 284.1+ KB\n"
     ]
    },
    {
     "name": "stderr",
     "output_type": "stream",
     "text": [
      "/var/folders/m7/31mld3hn46s_y1f05nhxt1_c0000gn/T/ipykernel_1478/1983182332.py:5: FutureWarning: A value is trying to be set on a copy of a DataFrame or Series through chained assignment using an inplace method.\n",
      "The behavior will change in pandas 3.0. This inplace method will never work because the intermediate object on which we are setting values always behaves as a copy.\n",
      "\n",
      "For example, when doing 'df[col].method(value, inplace=True)', try using 'df.method({col: value}, inplace=True)' or df[col] = df[col].method(value) instead, to perform the operation inplace on the original object.\n",
      "\n",
      "\n",
      "  df['Product'].fillna('Unknown Product', inplace=True)\n"
     ]
    }
   ],
   "source": [
    "# Dropping a row from the Tweet column\n",
    "df.dropna(subset=['Tweet'], inplace=True)\n",
    "\n",
    "# Filling the missing values in the Product column with placeholder values\n",
    "df['Product'].fillna('Unknown Product', inplace=True)\n",
    "\n",
    "# Checking the data\n",
    "df.info()\n"
   ]
  },
  {
   "cell_type": "code",
   "execution_count": 368,
   "metadata": {},
   "outputs": [
    {
     "data": {
      "text/plain": [
       "22"
      ]
     },
     "execution_count": 368,
     "metadata": {},
     "output_type": "execute_result"
    }
   ],
   "source": [
    "# Checking for duplicates\n",
    "df.duplicated().sum()"
   ]
  },
  {
   "cell_type": "markdown",
   "metadata": {},
   "source": [
    "We have here 22 duplicate values in the dataset which we need to deeply check incase they are same values from different tweets. If so then we will keep them otherwise we will drop them and continue processing the dataset."
   ]
  },
  {
   "cell_type": "code",
   "execution_count": 369,
   "metadata": {},
   "outputs": [
    {
     "data": {
      "text/html": [
       "<div>\n",
       "<style scoped>\n",
       "    .dataframe tbody tr th:only-of-type {\n",
       "        vertical-align: middle;\n",
       "    }\n",
       "\n",
       "    .dataframe tbody tr th {\n",
       "        vertical-align: top;\n",
       "    }\n",
       "\n",
       "    .dataframe thead th {\n",
       "        text-align: right;\n",
       "    }\n",
       "</style>\n",
       "<table border=\"1\" class=\"dataframe\">\n",
       "  <thead>\n",
       "    <tr style=\"text-align: right;\">\n",
       "      <th></th>\n",
       "      <th>Tweet</th>\n",
       "      <th>Product</th>\n",
       "      <th>Sentiment</th>\n",
       "    </tr>\n",
       "  </thead>\n",
       "  <tbody>\n",
       "    <tr>\n",
       "      <th>468</th>\n",
       "      <td>Before It Even Begins, Apple Wins #SXSW {link}</td>\n",
       "      <td>Apple</td>\n",
       "      <td>Positive emotion</td>\n",
       "    </tr>\n",
       "    <tr>\n",
       "      <th>776</th>\n",
       "      <td>Google to Launch Major New Social Network Call...</td>\n",
       "      <td>Unknown Product</td>\n",
       "      <td>No emotion toward brand or product</td>\n",
       "    </tr>\n",
       "    <tr>\n",
       "      <th>2232</th>\n",
       "      <td>Marissa Mayer: Google Will Connect the Digital...</td>\n",
       "      <td>Unknown Product</td>\n",
       "      <td>No emotion toward brand or product</td>\n",
       "    </tr>\n",
       "    <tr>\n",
       "      <th>2559</th>\n",
       "      <td>Counting down the days to #sxsw plus strong Ca...</td>\n",
       "      <td>Apple</td>\n",
       "      <td>Positive emotion</td>\n",
       "    </tr>\n",
       "    <tr>\n",
       "      <th>3950</th>\n",
       "      <td>Really enjoying the changes in Gowalla 3.0 for...</td>\n",
       "      <td>Android App</td>\n",
       "      <td>Positive emotion</td>\n",
       "    </tr>\n",
       "    <tr>\n",
       "      <th>3962</th>\n",
       "      <td>#SXSW is just starting, #CTIA is around the co...</td>\n",
       "      <td>Android</td>\n",
       "      <td>Positive emotion</td>\n",
       "    </tr>\n",
       "    <tr>\n",
       "      <th>4897</th>\n",
       "      <td>Oh. My. God. The #SXSW app for iPad is pure, u...</td>\n",
       "      <td>iPad or iPhone App</td>\n",
       "      <td>Positive emotion</td>\n",
       "    </tr>\n",
       "    <tr>\n",
       "      <th>5338</th>\n",
       "      <td>RT @mention ÷¼ GO BEYOND BORDERS! ÷_ {link} ...</td>\n",
       "      <td>Unknown Product</td>\n",
       "      <td>No emotion toward brand or product</td>\n",
       "    </tr>\n",
       "    <tr>\n",
       "      <th>5341</th>\n",
       "      <td>RT @mention ÷¼ Happy Woman's Day! Make love, ...</td>\n",
       "      <td>Unknown Product</td>\n",
       "      <td>No emotion toward brand or product</td>\n",
       "    </tr>\n",
       "    <tr>\n",
       "      <th>5881</th>\n",
       "      <td>RT @mention Google to Launch Major New Social ...</td>\n",
       "      <td>Unknown Product</td>\n",
       "      <td>No emotion toward brand or product</td>\n",
       "    </tr>\n",
       "    <tr>\n",
       "      <th>5882</th>\n",
       "      <td>RT @mention Google to Launch Major New Social ...</td>\n",
       "      <td>Unknown Product</td>\n",
       "      <td>No emotion toward brand or product</td>\n",
       "    </tr>\n",
       "    <tr>\n",
       "      <th>5883</th>\n",
       "      <td>RT @mention Google to Launch Major New Social ...</td>\n",
       "      <td>Unknown Product</td>\n",
       "      <td>No emotion toward brand or product</td>\n",
       "    </tr>\n",
       "    <tr>\n",
       "      <th>5884</th>\n",
       "      <td>RT @mention Google to Launch Major New Social ...</td>\n",
       "      <td>Unknown Product</td>\n",
       "      <td>No emotion toward brand or product</td>\n",
       "    </tr>\n",
       "    <tr>\n",
       "      <th>5885</th>\n",
       "      <td>RT @mention Google to Launch Major New Social ...</td>\n",
       "      <td>Unknown Product</td>\n",
       "      <td>No emotion toward brand or product</td>\n",
       "    </tr>\n",
       "    <tr>\n",
       "      <th>6296</th>\n",
       "      <td>RT @mention Marissa Mayer: Google Will Connect...</td>\n",
       "      <td>Google</td>\n",
       "      <td>Positive emotion</td>\n",
       "    </tr>\n",
       "    <tr>\n",
       "      <th>6297</th>\n",
       "      <td>RT @mention Marissa Mayer: Google Will Connect...</td>\n",
       "      <td>Unknown Product</td>\n",
       "      <td>No emotion toward brand or product</td>\n",
       "    </tr>\n",
       "    <tr>\n",
       "      <th>6298</th>\n",
       "      <td>RT @mention Marissa Mayer: Google Will Connect...</td>\n",
       "      <td>Google</td>\n",
       "      <td>Positive emotion</td>\n",
       "    </tr>\n",
       "    <tr>\n",
       "      <th>6299</th>\n",
       "      <td>RT @mention Marissa Mayer: Google Will Connect...</td>\n",
       "      <td>Unknown Product</td>\n",
       "      <td>No emotion toward brand or product</td>\n",
       "    </tr>\n",
       "    <tr>\n",
       "      <th>6300</th>\n",
       "      <td>RT @mention Marissa Mayer: Google Will Connect...</td>\n",
       "      <td>Unknown Product</td>\n",
       "      <td>No emotion toward brand or product</td>\n",
       "    </tr>\n",
       "    <tr>\n",
       "      <th>6546</th>\n",
       "      <td>RT @mention RT @mention Google to Launch Major...</td>\n",
       "      <td>Unknown Product</td>\n",
       "      <td>No emotion toward brand or product</td>\n",
       "    </tr>\n",
       "    <tr>\n",
       "      <th>8483</th>\n",
       "      <td>I just noticed DST is coming this weekend. How...</td>\n",
       "      <td>iPhone</td>\n",
       "      <td>Negative emotion</td>\n",
       "    </tr>\n",
       "    <tr>\n",
       "      <th>8747</th>\n",
       "      <td>Need to buy an iPad2 while I'm in Austin at #s...</td>\n",
       "      <td>iPad</td>\n",
       "      <td>Positive emotion</td>\n",
       "    </tr>\n",
       "  </tbody>\n",
       "</table>\n",
       "</div>"
      ],
      "text/plain": [
       "                                                  Tweet             Product  \\\n",
       "468      Before It Even Begins, Apple Wins #SXSW {link}               Apple   \n",
       "776   Google to Launch Major New Social Network Call...     Unknown Product   \n",
       "2232  Marissa Mayer: Google Will Connect the Digital...     Unknown Product   \n",
       "2559  Counting down the days to #sxsw plus strong Ca...               Apple   \n",
       "3950  Really enjoying the changes in Gowalla 3.0 for...         Android App   \n",
       "3962  #SXSW is just starting, #CTIA is around the co...             Android   \n",
       "4897  Oh. My. God. The #SXSW app for iPad is pure, u...  iPad or iPhone App   \n",
       "5338  RT @mention ÷¼ GO BEYOND BORDERS! ÷_ {link} ...     Unknown Product   \n",
       "5341  RT @mention ÷¼ Happy Woman's Day! Make love, ...     Unknown Product   \n",
       "5881  RT @mention Google to Launch Major New Social ...     Unknown Product   \n",
       "5882  RT @mention Google to Launch Major New Social ...     Unknown Product   \n",
       "5883  RT @mention Google to Launch Major New Social ...     Unknown Product   \n",
       "5884  RT @mention Google to Launch Major New Social ...     Unknown Product   \n",
       "5885  RT @mention Google to Launch Major New Social ...     Unknown Product   \n",
       "6296  RT @mention Marissa Mayer: Google Will Connect...              Google   \n",
       "6297  RT @mention Marissa Mayer: Google Will Connect...     Unknown Product   \n",
       "6298  RT @mention Marissa Mayer: Google Will Connect...              Google   \n",
       "6299  RT @mention Marissa Mayer: Google Will Connect...     Unknown Product   \n",
       "6300  RT @mention Marissa Mayer: Google Will Connect...     Unknown Product   \n",
       "6546  RT @mention RT @mention Google to Launch Major...     Unknown Product   \n",
       "8483  I just noticed DST is coming this weekend. How...              iPhone   \n",
       "8747  Need to buy an iPad2 while I'm in Austin at #s...                iPad   \n",
       "\n",
       "                               Sentiment  \n",
       "468                     Positive emotion  \n",
       "776   No emotion toward brand or product  \n",
       "2232  No emotion toward brand or product  \n",
       "2559                    Positive emotion  \n",
       "3950                    Positive emotion  \n",
       "3962                    Positive emotion  \n",
       "4897                    Positive emotion  \n",
       "5338  No emotion toward brand or product  \n",
       "5341  No emotion toward brand or product  \n",
       "5881  No emotion toward brand or product  \n",
       "5882  No emotion toward brand or product  \n",
       "5883  No emotion toward brand or product  \n",
       "5884  No emotion toward brand or product  \n",
       "5885  No emotion toward brand or product  \n",
       "6296                    Positive emotion  \n",
       "6297  No emotion toward brand or product  \n",
       "6298                    Positive emotion  \n",
       "6299  No emotion toward brand or product  \n",
       "6300  No emotion toward brand or product  \n",
       "6546  No emotion toward brand or product  \n",
       "8483                    Negative emotion  \n",
       "8747                    Positive emotion  "
      ]
     },
     "execution_count": 369,
     "metadata": {},
     "output_type": "execute_result"
    }
   ],
   "source": [
    "# Investigating the duplicates\n",
    "duplicates = df[df.duplicated()]\n",
    "duplicates"
   ]
  },
  {
   "cell_type": "code",
   "execution_count": 370,
   "metadata": {},
   "outputs": [
    {
     "data": {
      "text/html": [
       "<div>\n",
       "<style scoped>\n",
       "    .dataframe tbody tr th:only-of-type {\n",
       "        vertical-align: middle;\n",
       "    }\n",
       "\n",
       "    .dataframe tbody tr th {\n",
       "        vertical-align: top;\n",
       "    }\n",
       "\n",
       "    .dataframe thead th {\n",
       "        text-align: right;\n",
       "    }\n",
       "</style>\n",
       "<table border=\"1\" class=\"dataframe\">\n",
       "  <thead>\n",
       "    <tr style=\"text-align: right;\">\n",
       "      <th></th>\n",
       "      <th>Tweet</th>\n",
       "      <th>Product</th>\n",
       "      <th>Sentiment</th>\n",
       "    </tr>\n",
       "  </thead>\n",
       "  <tbody>\n",
       "    <tr>\n",
       "      <th>0</th>\n",
       "      <td>.@wesley83 I have a 3G iPhone. After 3 hrs twe...</td>\n",
       "      <td>iPhone</td>\n",
       "      <td>Negative emotion</td>\n",
       "    </tr>\n",
       "    <tr>\n",
       "      <th>1</th>\n",
       "      <td>@jessedee Know about @fludapp ? Awesome iPad/i...</td>\n",
       "      <td>iPad or iPhone App</td>\n",
       "      <td>Positive emotion</td>\n",
       "    </tr>\n",
       "    <tr>\n",
       "      <th>5</th>\n",
       "      <td>@teachntech00 New iPad Apps For #SpeechTherapy...</td>\n",
       "      <td>Unknown Product</td>\n",
       "      <td>No emotion toward brand or product</td>\n",
       "    </tr>\n",
       "    <tr>\n",
       "      <th>90</th>\n",
       "      <td>Thanks to @mention for publishing the news of ...</td>\n",
       "      <td>Unknown Product</td>\n",
       "      <td>I can't tell</td>\n",
       "    </tr>\n",
       "  </tbody>\n",
       "</table>\n",
       "</div>"
      ],
      "text/plain": [
       "                                                Tweet             Product  \\\n",
       "0   .@wesley83 I have a 3G iPhone. After 3 hrs twe...              iPhone   \n",
       "1   @jessedee Know about @fludapp ? Awesome iPad/i...  iPad or iPhone App   \n",
       "5   @teachntech00 New iPad Apps For #SpeechTherapy...     Unknown Product   \n",
       "90  Thanks to @mention for publishing the news of ...     Unknown Product   \n",
       "\n",
       "                             Sentiment  \n",
       "0                     Negative emotion  \n",
       "1                     Positive emotion  \n",
       "5   No emotion toward brand or product  \n",
       "90                        I can't tell  "
      ]
     },
     "execution_count": 370,
     "metadata": {},
     "output_type": "execute_result"
    }
   ],
   "source": [
    "# Dropping duplicates\n",
    "df.drop_duplicates(subset='Sentiment', keep='first')"
   ]
  },
  {
   "cell_type": "markdown",
   "metadata": {},
   "source": [
    "Let us visualize the sentiments values to get a better understanding."
   ]
  },
  {
   "cell_type": "code",
   "execution_count": 371,
   "metadata": {},
   "outputs": [
    {
     "data": {
      "text/plain": [
       "Sentiment\n",
       "No emotion toward brand or product    5388\n",
       "Positive emotion                      2978\n",
       "Negative emotion                       570\n",
       "I can't tell                           156\n",
       "Name: count, dtype: int64"
      ]
     },
     "execution_count": 371,
     "metadata": {},
     "output_type": "execute_result"
    }
   ],
   "source": [
    "# Running a sentiment count\n",
    "sentiment_counts = df['Sentiment'].value_counts()\n",
    "sentiment_counts"
   ]
  },
  {
   "cell_type": "code",
   "execution_count": 372,
   "metadata": {},
   "outputs": [
    {
     "data": {
      "text/plain": [
       "Text(0, 0.5, 'Count')"
      ]
     },
     "execution_count": 372,
     "metadata": {},
     "output_type": "execute_result"
    },
    {
     "data": {
      "image/png": "[encoded data removed]",
      "text/plain": [
       "<Figure size 1200x600 with 1 Axes>"
      ]
     },
     "metadata": {},
     "output_type": "display_data"
    }
   ],
   "source": [
    "# Plotting the sentiments\n",
    "fig =  plt.figure(figsize=(12,6))\n",
    "sns.countplot(x='Sentiment', data=df, color = 'orange')\n",
    "plt.title('Sentiment Counts', size=20)\n",
    "plt.xlabel('Sentiment', size=15)\n",
    "plt.ylabel('Count', size=15)\n"
   ]
  },
  {
   "cell_type": "markdown",
   "metadata": {},
   "source": [
    "There are altogether four sentiment classes in which neutral type of emotion ('No emotion...') is more prevalent. We can also see the sentiment 'I can't tell' constitutes only tiny portion of the data. Sentiment wise, this might be closer to the neutral type in which case we could combine with the neutral class. However, this class is already a majority class which is already causing huge imbalance in the dataset. So, we will drop the data with this class label."
   ]
  },
  {
   "cell_type": "code",
   "execution_count": 373,
   "metadata": {},
   "outputs": [
    {
     "data": {
      "text/plain": [
       "Sentiment\n",
       "neutral     5388\n",
       "positive    2978\n",
       "negative     570\n",
       "Name: count, dtype: int64"
      ]
     },
     "execution_count": 373,
     "metadata": {},
     "output_type": "execute_result"
    }
   ],
   "source": [
    "# Dropping the 'I can't tell' class label\n",
    "df = df[(df['Sentiment']!= \"I can't tell\")]\n",
    "\n",
    "# Renaming the 'No emotion toward brand or product\" to 'Neutral'\n",
    "df['Sentiment'].replace('No emotion toward brand or product', 'Neutral')\n",
    "\n",
    "# Encoding class label to brief\n",
    "label_encoder = {'Negative emotion': 'negative',\n",
    "                 'Positive emotion': 'positive',\n",
    "                 'No emotion toward brand or product': 'neutral',\n",
    "                 \"I can't tell\":'confused'}\n",
    "\n",
    "df['Sentiment'] = df['Sentiment'].map(label_encoder)\n",
    "\n",
    "# Running sentiment count again\n",
    "sentiment_counts = df['Sentiment'].value_counts()\n",
    "sentiment_counts"
   ]
  },
  {
   "cell_type": "markdown",
   "metadata": {},
   "source": [
    "Let us check the Product column in the dataset"
   ]
  },
  {
   "cell_type": "code",
   "execution_count": 374,
   "metadata": {},
   "outputs": [
    {
     "data": {
      "text/plain": [
       "Product\n",
       "Unknown Product                    5654\n",
       "iPad                                942\n",
       "Apple                               659\n",
       "iPad or iPhone App                  470\n",
       "Google                              429\n",
       "iPhone                              296\n",
       "Other Google product or service     292\n",
       "Android App                          81\n",
       "Android                              78\n",
       "Other Apple product or service       35\n",
       "Name: count, dtype: int64"
      ]
     },
     "execution_count": 374,
     "metadata": {},
     "output_type": "execute_result"
    }
   ],
   "source": [
    "# Running product count\n",
    "product_counts = df['Product'].value_counts()\n",
    "product_counts"
   ]
  },
  {
   "cell_type": "code",
   "execution_count": 375,
   "metadata": {},
   "outputs": [
    {
     "data": {
      "text/plain": [
       "Text(0, 0.5, 'Product')"
      ]
     },
     "execution_count": 375,
     "metadata": {},
     "output_type": "execute_result"
    },
    {
     "data": {
      "image/png": "[encoded data removed]",
      "text/plain": [
       "<Figure size 1200x600 with 1 Axes>"
      ]
     },
     "metadata": {},
     "output_type": "display_data"
    }
   ],
   "source": [
    "# Plotting product counts\n",
    "fig =  plt.figure(figsize=(12,6))\n",
    "sns.countplot(y='Product', data=df, color = 'green')\n",
    "plt.title('Product Counts', size=20)\n",
    "plt.xlabel('Count', size=15)\n",
    "plt.ylabel('Product', size=15)"
   ]
  },
  {
   "cell_type": "code",
   "execution_count": 382,
   "metadata": {},
   "outputs": [
    {
     "data": {
      "image/png": "[encoded data removed]",
      "text/plain": [
       "<Figure size 1200x600 with 1 Axes>"
      ]
     },
     "metadata": {},
     "output_type": "display_data"
    }
   ],
   "source": [
    "# Plotting sentiment count for each product\n",
    "plt.figure(figsize=(12,6))\n",
    "ax = sns.countplot(data=df, x = 'Sentiment', hue='Product')"
   ]
  },
  {
   "cell_type": "markdown",
   "metadata": {},
   "source": [
    "The product column is divided into 10 classes which can be categorized into 2; Apple and Google basically with the exception of the unknown class. That is what we will be doing in the next cell below."
   ]
  },
  {
   "cell_type": "code",
   "execution_count": 376,
   "metadata": {},
   "outputs": [],
   "source": [
    "# Creating a copy of the dataframe\n",
    "df_clean = df.copy()"
   ]
  },
  {
   "cell_type": "code",
   "execution_count": 377,
   "metadata": {},
   "outputs": [
    {
     "data": {
      "text/plain": [
       "Product\n",
       "Unknown    5654\n",
       "Apple      2402\n",
       "Google      880\n",
       "Name: count, dtype: int64"
      ]
     },
     "execution_count": 377,
     "metadata": {},
     "output_type": "execute_result"
    }
   ],
   "source": [
    "# Brand name mapping\n",
    "brand = {'iPhone': 'Apple',\n",
    "         'iPad or iPhone App':'Apple',\n",
    "         'iPad': 'Apple',\n",
    "         'Google': 'Google',\n",
    "         'Unknown Product': 'Unknown',\n",
    "         'Android':'Google',\n",
    "         'Apple': 'Apple',\n",
    "         'Android App':'Google',\n",
    "         'Other Google product or service':'Google',\n",
    "         'Other Apple product or service':'Apple'\n",
    "        }\n",
    "\n",
    "# Applying the mapping\n",
    "df_clean['Product'] = df_clean['Product'].map(brand)\n",
    "df_clean['Product'].value_counts()"
   ]
  },
  {
   "cell_type": "code",
   "execution_count": 379,
   "metadata": {},
   "outputs": [
    {
     "data": {
      "text/plain": [
       "Text(0, 0.5, 'Count')"
      ]
     },
     "execution_count": 379,
     "metadata": {},
     "output_type": "execute_result"
    },
    {
     "data": {
      "image/png": "[encoded data removed]",
      "text/plain": [
       "<Figure size 1200x600 with 1 Axes>"
      ]
     },
     "metadata": {},
     "output_type": "display_data"
    }
   ],
   "source": [
    "# Plotting the mapped brands\n",
    "fig =  plt.figure(figsize=(12,6))\n",
    "sns.countplot(x='Product', data=df_clean, hue='Product', palette={'Apple':'b', 'Google':'r', 'Unknown':'g'}, alpha=0.7)\n",
    "plt.title('Sentiment Counts per Brand', size=20)\n",
    "plt.xlabel('Brands', size=15)\n",
    "plt.ylabel('Count', size=15)"
   ]
  },
  {
   "cell_type": "markdown",
   "metadata": {},
   "source": [
    "Now, let's proceed with the text preprocessing steps. We will:\n",
    "\n",
    "1. Remove URLs\n",
    "2. Remove punctuation\n",
    "3. Convert all text to lowercase\n",
    "4. Remove stopwords\n",
    "5. Apply stemming and lemmatization\n",
    "\n",
    "We will also create a function to perform these steps."
   ]
  },
  {
   "cell_type": "code",
   "execution_count": 388,
   "metadata": {},
   "outputs": [
    {
     "data": {
      "text/plain": [
       "Text(0, 0.5, 'Count')"
      ]
     },
     "execution_count": 388,
     "metadata": {},
     "output_type": "execute_result"
    },
    {
     "data": {
      "image/png": "[encoded data removed]",
      "text/plain": [
       "<Figure size 1200x600 with 1 Axes>"
      ]
     },
     "metadata": {},
     "output_type": "display_data"
    }
   ],
   "source": [
    "# Plotting the sentiment counts and comparing them against each other\n",
    "plt.figure(figsize=(12,6))\n",
    "ax = sns.countplot(data=df_clean, x = 'Sentiment', hue='Product')\n",
    "plt.title('Sentiment Counts per Brand', size=20)\n",
    "plt.xlabel('Sentiment', size=15)\n",
    "plt.ylabel('Count', size=15)"
   ]
  },
  {
   "cell_type": "code",
   "execution_count": null,
   "metadata": {},
   "outputs": [],
   "source": []
  }
 ],
 "metadata": {
  "kernelspec": {
   "display_name": "learn-env",
   "language": "python",
   "name": "python3"
  },
  "language_info": {
   "codemirror_mode": {
    "name": "ipython",
    "version": 3
   },
   "file_extension": ".py",
   "mimetype": "text/x-python",
   "name": "python",
   "nbconvert_exporter": "python",
   "pygments_lexer": "ipython3",
   "version": "3.11.8"
  }
 },
 "nbformat": 4,
 "nbformat_minor": 2
}
